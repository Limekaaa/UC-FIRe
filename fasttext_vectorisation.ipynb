{
  "cells": [
    {
      "cell_type": "code",
      "execution_count": 1,
      "metadata": {
        "colab": {
          "base_uri": "https://localhost:8080/"
        },
        "id": "phKEMi6dp3v1",
        "outputId": "872f3ca4-2156-468a-b752-79acdb7e8dd1"
      },
      "outputs": [
        {
          "name": "stderr",
          "output_type": "stream",
          "text": [
            "c:\\Users\\maxim\\anaconda3\\envs\\research_ir\\Lib\\site-packages\\beir\\util.py:2: TqdmWarning: IProgress not found. Please update jupyter and ipywidgets. See https://ipywidgets.readthedocs.io/en/stable/user_install.html\n",
            "  from tqdm.autonotebook import tqdm\n"
          ]
        }
      ],
      "source": [
        "import matplotlib.pyplot as plt\n",
        "\n",
        "from tqdm import tqdm\n",
        "\n",
        "from beir import util, LoggingHandler\n",
        "from beir.datasets.data_loader import GenericDataLoader\n",
        "from beir.retrieval.evaluation import EvaluateRetrieval\n",
        "\n",
        "#from utils_func import corpus_processing, matrix_creation, clustering, retriever_model\n",
        "\n",
        "import os\n",
        "\n",
        "import spacy\n",
        "from tqdm import tqdm\n",
        "import pandas as pd\n",
        "\n",
        "from multiprocessing import Pool, cpu_count\n",
        "import multiprocessing\n",
        "multiprocessing.set_start_method(\"spawn\", force=True)"
      ]
    },
    {
      "cell_type": "code",
      "execution_count": 2,
      "metadata": {
        "id": "dM3A9iS6rFGF"
      },
      "outputs": [],
      "source": [
        "import spacy\n",
        "from tqdm import tqdm\n",
        "import pandas as pd\n",
        "\n",
        "from multiprocessing import Pool, cpu_count\n",
        "import multiprocessing\n",
        "multiprocessing.set_start_method(\"spawn\", force=True)\n",
        "\n",
        "nlp = spacy.load('en_core_web_sm')\n",
        "stopwords = nlp.Defaults.stop_words\n",
        "clean_tokens = lambda tokens : ' '.join([token.lemma_.lower() for token in tokens if token.lemma_.lower() not in stopwords and not token.is_punct])\n",
        "\n",
        "def pre_process(elem_to_preprocess: tuple[int, dict[str,str]]) -> tuple[int, str]:\n",
        "  \"\"\"\n",
        "  Preprocesses the text data in the corpus\\n\n",
        "  :param elem_to_preprocess: Tuple containing the key and the value of the element to preprocess\\n\n",
        "  :return: Tuple containing the key and the preprocessed text data\\n\n",
        "  \"\"\"\n",
        "\n",
        "  key, val = elem_to_preprocess\n",
        "  return key, f\"{clean_tokens(nlp(val['title'].lower()))} {clean_tokens(nlp(val['text'].lower()))}\" # Cleaning the text document\n",
        "\n",
        "# Helper function to process a single key-value pair\n",
        "def process_item(item):\n",
        "    key, value = item\n",
        "    return key, pre_process((key, value))[1]\n",
        "\n",
        "def preprocess_corpus_dict(corpus: dict[int, dict[str, str]]) -> dict[int, str]:\n",
        "    \"\"\"\n",
        "    Preprocesses the text data in the corpus in parallel\\n\n",
        "    :param corpus: The corpus to preprocess\n",
        "    :return: The preprocessed corpus\n",
        "    \"\"\"\n",
        "    # Convert the corpus to a list of items for parallel processing\n",
        "    items = list(corpus.items())\n",
        "\n",
        "    # Use a multiprocessing pool for parallel execution\n",
        "    with Pool(cpu_count()) as pool:\n",
        "        results = list(tqdm(pool.imap(process_item, items), total=len(items)))\n",
        "\n",
        "    # Combine results into a dictionary\n",
        "    cleaned_corpus = {key: value for key, value in results}\n",
        "\n",
        "    return cleaned_corpus\n",
        "\n",
        "\"\"\" Non parallel version\n",
        "\n",
        "def preprocess_corpus_dict(corpus: dict[int, dict[str,str]]) -> dict[int, str]:\n",
        "    '''\n",
        "    Preprocesses the text data in the corpus\\n\n",
        "    :param corpus: The corpus to preprocess\\n\n",
        "    :return: The preprocessed corpus\\n\n",
        "    '''\n",
        "    cleaned_corpus = {}\n",
        "    for key in tqdm(corpus.keys()):\n",
        "        cleaned_corpus[key] = pre_process((key, corpus[key]))[1]\n",
        "    return cleaned_corpus\n",
        "\"\"\"\n",
        "\n",
        "def get_unique_words(corpus:dict[int, str]) -> set:\n",
        "    \"\"\"\n",
        "    Function to find the unique words in a corpus\n",
        "    :param corpus: dict[int, str] - a dictionary with the key being the document id and the value being the document text\n",
        "    :return: set - a set of unique words in the corpus\n",
        "    \"\"\"\n",
        "    unique_words = set()\n",
        "    for doc_id in tqdm(corpus, desc=\"Getting unique words\"):\n",
        "        text = corpus[doc_id]\n",
        "        text = text.split()\n",
        "        for word in text:\n",
        "            unique_words.add(word)\n",
        "    return unique_words\n",
        "\n",
        "def save_processed_corpus(corpus, path_to_save):\n",
        "    \"\"\"\n",
        "    Saves the preprocessed corpus to a csv file\\n\n",
        "    :param corpus: The preprocessed corpus\\n\n",
        "    :param path_to_save: The path to save the preprocessed corpus\\n\n",
        "    \"\"\"\n",
        "\n",
        "    df = pd.DataFrame.from_dict(corpus, orient='index')\n",
        "    df.reset_index(inplace=True)\n",
        "    df.columns = [\"doc_id\", \"text\"]\n",
        "    df.to_csv(path_to_save, index=False)\n",
        "\n"
      ]
    },
    {
      "cell_type": "code",
      "execution_count": 3,
      "metadata": {},
      "outputs": [],
      "source": [
        "from utils_func import corpus_processing"
      ]
    },
    {
      "cell_type": "code",
      "execution_count": 4,
      "metadata": {
        "colab": {
          "base_uri": "https://localhost:8080/",
          "height": 81,
          "referenced_widgets": [
            "4ad0bf1fe35542e988f6c6d60e135713",
            "2c94860fac854225b49cbce8413ba914",
            "22c443c470ab467dbe12284b1f940ac5",
            "d57c4cc52f4c45749cad23ca0abd2022",
            "042b85e7b9e44c0d888bb426c9f6eec4",
            "967d2fc61b964743875cae0a4c482de6",
            "d56a89cb42ec4e8595f6f714fee18c7a",
            "455372856b494568aa24358094f8f32f",
            "ae74bc024549496a8c1b682804a378e6",
            "51a09a65d0ed47e89a9e0a10af712abc",
            "2459823cf6114c718d161a9d187a14a6",
            "c154a37e00c34adfa522046d73875a8d",
            "c69de4051f134017bc5526eef9efc08e",
            "abc810e74f674ab79de395273fa19bb2",
            "39839d2064c04842871c9c9e06ef0bdc",
            "cac35b0a44a94763aba300f1bb63bc31",
            "3f4601e890e245c2a83fd4b735c1e49f",
            "176ca720e2cf436da07fa656c78b1abe",
            "f35c4b3e0f9d4f209e5cd8f1cb84f70b",
            "fbfa9b8644c14214b027ac229d1245cc",
            "dd08cccfa11045b3bc44ad5c5b2f472a",
            "b0fbec7c98b24e92b3f4403e69e48188"
          ]
        },
        "id": "Up21e6m-p3v2",
        "outputId": "7094693d-3b30-40fe-cb52-cd68592dbeb7"
      },
      "outputs": [
        {
          "name": "stderr",
          "output_type": "stream",
          "text": [
            "100%|██████████| 3633/3633 [00:00<00:00, 106438.95it/s]\n"
          ]
        }
      ],
      "source": [
        "# Example corpus and queries (replace with your actual data)\n",
        "#dataset = \"scidocs\"\n",
        "dataset = \"nfcorpus\"\n",
        "url = \"https://public.ukp.informatik.tu-darmstadt.de/thakur/BEIR/datasets/{}.zip\".format(dataset)\n",
        "data_path = util.download_and_unzip(url, \"datasets\")\n",
        "data_path = f\"datasets/{dataset}\"\n",
        "corpus, queries, qrels = GenericDataLoader(data_folder=data_path).load(split=\"test\")"
      ]
    },
    {
      "cell_type": "code",
      "execution_count": 5,
      "metadata": {
        "colab": {
          "base_uri": "https://localhost:8080/"
        },
        "id": "R6-elVdHoKvw",
        "outputId": "4a5be8a7-d0ba-4e1e-de75-14e313582d9d"
      },
      "outputs": [
        {
          "name": "stderr",
          "output_type": "stream",
          "text": [
            "Prétraitement du corpus: 100%|██████████| 3633/3633 [00:26<00:00, 134.58it/s]\n"
          ]
        }
      ],
      "source": [
        "cleaned_corpus = corpus_processing.preprocess_corpus_dict(corpus)"
      ]
    },
    {
      "cell_type": "code",
      "execution_count": 6,
      "metadata": {
        "colab": {
          "base_uri": "https://localhost:8080/"
        },
        "id": "Qpeo3y_LaFcL",
        "outputId": "b556f2cc-77bb-4b00-97dd-3320f34b0d33"
      },
      "outputs": [
        {
          "name": "stderr",
          "output_type": "stream",
          "text": [
            "100%|██████████| 3633/3633 [00:00<00:00, 146485.94it/s]\n"
          ]
        }
      ],
      "source": [
        "import tempfile\n",
        "\n",
        "with tempfile.NamedTemporaryFile(delete=False, mode='w', encoding='utf-8') as temp_file:\n",
        "    for keys in tqdm(cleaned_corpus.keys()):\n",
        "        temp_file.write(f\"{cleaned_corpus[keys]}\\n\")\n",
        "    temp_file_path = temp_file.name"
      ]
    },
    {
      "cell_type": "code",
      "execution_count": 7,
      "metadata": {
        "colab": {
          "base_uri": "https://localhost:8080/",
          "height": 70
        },
        "id": "Xur8ECckp3v2",
        "outputId": "61f8a919-1bd6-4f93-e8b3-e48e725d8ef6"
      },
      "outputs": [
        {
          "name": "stderr",
          "output_type": "stream",
          "text": [
            "Getting unique words: 100%|██████████| 3633/3633 [00:00<00:00, 28395.40it/s]\n"
          ]
        }
      ],
      "source": [
        "import tempfile\n",
        "import fasttext\n",
        "import re\n",
        "import numpy as np\n",
        "\n",
        "dim = 100\n",
        "'''\n",
        "with tempfile.NamedTemporaryFile(delete=False, mode='w', encoding='utf-8') as temp_file:\n",
        "    temp_file.write(text)\n",
        "    temp_file_path = temp_file.name\n",
        "'''\n",
        "# Entraîner le modèle FastText avec le fichier temporaire\n",
        "model = fasttext.train_unsupervised(temp_file_path, model='skipgram', epoch = 5, dim=dim)\n",
        "# Liste des mots à visualiser (tu peux la personnaliser)\n",
        "#if dim > 100:\n",
        "#    fasttext.util.reduce_model(model, 100)\n",
        "\n",
        "#words = re.findall(r'\\b\\w+\\b', text.lower())\n",
        "unique_words = list(get_unique_words(cleaned_corpus))\n",
        "#unique_words = list(set(words))\n",
        "\n",
        "# Obtenir les vecteurs pour les mots choisis\n",
        "word_vectors = np.array([model.get_word_vector(word) for word in unique_words])\n",
        "\n",
        "embeddings = pd.DataFrame(word_vectors, index=unique_words)\n",
        "embeddings.to_csv(f\"word_vectors/word_vectors_{dataset}.csv\", sep = ' ')\n",
        "'''\n",
        "# Path to the output file\n",
        "output_file = f\"word_vectors_{dataset}.txt\"\n",
        "\n",
        "# Open the file in write mode\n",
        "with open(output_file, \"w\") as f:\n",
        "    # Loop over each word and its corresponding vector\n",
        "    for word, vector in zip(unique_words, word_vectors):\n",
        "        # Convert the vector to a space-separated string\n",
        "        vector_str = ' '.join(map(str, vector))\n",
        "        # Write the word and its vector, followed by a newline\n",
        "        f.write(f\"{word} {vector_str}\\n\")\n",
        "'''\n",
        "\n",
        "model.save_model(f'models/fasttext_{dataset}')"
      ]
    },
    {
      "cell_type": "code",
      "execution_count": 8,
      "metadata": {
        "colab": {
          "base_uri": "https://localhost:8080/"
        },
        "id": "8738Vqhjstfo",
        "outputId": "b13a2931-12de-4fe5-9416-2add5aadcb15"
      },
      "outputs": [
        {
          "data": {
            "text/plain": [
              "(8615, 28549, 8614)"
            ]
          },
          "execution_count": 8,
          "metadata": {},
          "output_type": "execute_result"
        }
      ],
      "source": [
        "words = set(model.words)\n",
        "words_emb = set(list(embeddings.index))\n",
        "len(words), len(words_emb), len(words.intersection(words_emb))"
      ]
    },
    {
      "cell_type": "code",
      "execution_count": 27,
      "metadata": {},
      "outputs": [
        {
          "data": {
            "text/plain": [
              "array([-1.24736972e-01,  1.55483544e-01,  1.28757864e-01,  1.05919413e-01,\n",
              "       -1.72636896e-01,  2.19534859e-01,  3.77277106e-01, -2.17107505e-01,\n",
              "        9.40025225e-02, -3.75892818e-02,  3.26620609e-01,  2.29673848e-01,\n",
              "       -5.97025692e-01,  3.68287772e-01, -1.34355962e-01,  1.30748555e-01,\n",
              "        3.06492895e-01, -3.39102894e-01,  3.43339235e-01, -1.72479391e-01,\n",
              "       -4.86842215e-01, -4.16942954e-01,  2.15740558e-02,  6.34661391e-02,\n",
              "       -7.41366893e-02,  1.33865386e-01,  1.39842197e-01,  1.78903669e-01,\n",
              "       -2.07893655e-01, -2.45207608e-01,  1.94883406e-01, -8.47381949e-02,\n",
              "       -8.78266525e-03, -3.35278273e-01,  2.33303279e-01,  2.82787442e-01,\n",
              "       -1.74766675e-01, -4.27321941e-02, -1.31116837e-01, -1.05515592e-01,\n",
              "        2.93980420e-01,  2.79508412e-01,  1.21777266e-01, -2.61485904e-01,\n",
              "       -2.34878153e-01,  1.71515167e-01,  3.13903749e-01, -1.24379329e-01,\n",
              "        3.41024667e-01, -1.10647030e-01, -1.10391782e-04, -2.17686027e-01,\n",
              "       -3.54332745e-01, -2.05407783e-01,  3.51301394e-02,  2.67877638e-01,\n",
              "        3.02105486e-01,  1.87010139e-01,  1.18865639e-01,  2.73825109e-01,\n",
              "       -4.28711563e-01,  8.77655204e-03,  1.09252937e-01, -8.80642980e-02,\n",
              "       -2.23572001e-01, -1.62800532e-02, -1.88934848e-01,  1.90330058e-01,\n",
              "       -4.53757286e-01,  1.00180522e-01,  1.55421242e-01, -2.70230681e-01,\n",
              "        1.90080628e-01, -2.10373804e-01,  4.18790616e-03, -5.07906556e-01,\n",
              "       -1.85975642e-03,  2.16846794e-01, -1.53985351e-01, -1.53905535e-02,\n",
              "       -5.24357371e-02,  1.35309890e-01, -2.19360720e-02, -2.04173818e-01,\n",
              "        3.27327162e-01,  1.51998147e-01, -1.87945873e-01,  2.83609271e-01,\n",
              "       -1.26365036e-01,  3.11767794e-02,  4.75927949e-01,  2.52314478e-01,\n",
              "        1.24933757e-01,  3.31638940e-02,  4.58958536e-01, -2.73269475e-01,\n",
              "       -1.14213742e-01,  2.09397539e-01,  3.00912291e-01,  1.04867585e-01],\n",
              "      dtype=float32)"
            ]
          },
          "execution_count": 27,
          "metadata": {},
          "output_type": "execute_result"
        }
      ],
      "source": [
        "model.get_word_vector(\"study\")"
      ]
    },
    {
      "cell_type": "code",
      "execution_count": 32,
      "metadata": {},
      "outputs": [],
      "source": [
        "vect = [model.get_word_vector(i) for i in model.words]"
      ]
    },
    {
      "cell_type": "code",
      "execution_count": 34,
      "metadata": {},
      "outputs": [],
      "source": [
        "pd.DataFrame(vect, index = model.words).to_csv(f\"word_vectors/word_vectors_{dataset}_test.csv\", sep = ' ')"
      ]
    },
    {
      "cell_type": "code",
      "execution_count": 9,
      "metadata": {},
      "outputs": [
        {
          "data": {
            "text/plain": [
              "'retinal'"
            ]
          },
          "execution_count": 9,
          "metadata": {},
          "output_type": "execute_result"
        }
      ],
      "source": [
        "unique_words[0]"
      ]
    },
    {
      "cell_type": "code",
      "execution_count": 10,
      "metadata": {},
      "outputs": [
        {
          "data": {
            "text/plain": [
              "[(0.8931265473365784, 'retina'),\n",
              " (0.7388615608215332, 'retinopathy'),\n",
              " (0.7326111793518066, 'spinal'),\n",
              " (0.7128815650939941, 'atrophy'),\n",
              " (0.7120115160942078, 'retinitis'),\n",
              " (0.7038640379905701, 'svd'),\n",
              " (0.7029131054878235, 'macula'),\n",
              " (0.6998583674430847, 'vein'),\n",
              " (0.6985985040664673, 'iris'),\n",
              " (0.6962120532989502, 'reticulum')]"
            ]
          },
          "execution_count": 10,
          "metadata": {},
          "output_type": "execute_result"
        }
      ],
      "source": [
        "model.get_nearest_neighbors(unique_words[0])"
      ]
    },
    {
      "cell_type": "code",
      "execution_count": 1,
      "metadata": {},
      "outputs": [
        {
          "ename": "NameError",
          "evalue": "name 'model' is not defined",
          "output_type": "error",
          "traceback": [
            "\u001b[1;31m---------------------------------------------------------------------------\u001b[0m",
            "\u001b[1;31mNameError\u001b[0m                                 Traceback (most recent call last)",
            "Cell \u001b[1;32mIn[1], line 1\u001b[0m\n\u001b[1;32m----> 1\u001b[0m \u001b[43mmodel\u001b[49m\u001b[38;5;241m.\u001b[39mget_nearest_neighbors(\u001b[38;5;124m'\u001b[39m\u001b[38;5;124m8.3\u001b[39m\u001b[38;5;124m'\u001b[39m, k\u001b[38;5;241m=\u001b[39m\u001b[38;5;241m50\u001b[39m)\n",
            "\u001b[1;31mNameError\u001b[0m: name 'model' is not defined"
          ]
        }
      ],
      "source": [
        "model.get_nearest_neighbors('8.3', k=50)"
      ]
    },
    {
      "cell_type": "code",
      "execution_count": 6,
      "metadata": {},
      "outputs": [
        {
          "name": "stderr",
          "output_type": "stream",
          "text": [
            "                                                           \r"
          ]
        }
      ],
      "source": [
        "import bm25s\n",
        "\n",
        "# Create your corpus here\n",
        "corpus = [\n",
        "    \"a cat is a feline and likes to purr\",\n",
        "    \"a dog is the human's best friend and loves to play\",\n",
        "    \"a bird is a beautiful animal that can fly\",\n",
        "    \"\\\\cos(e^{i\\\\pi}) = -1\"\n",
        "]\n",
        "\n",
        "# Tokenize the corpus and index it\n",
        "corpus_tokens = bm25s.tokenize(corpus)\n",
        "retriever = bm25s.BM25(corpus=corpus)\n",
        "retriever.index(corpus_tokens)"
      ]
    },
    {
      "cell_type": "code",
      "execution_count": 7,
      "metadata": {},
      "outputs": [
        {
          "data": {
            "text/plain": [
              "Tokenized(ids=[[0, 1, 2, 3], [4, 5, 6, 7, 8, 9], [10, 11, 12, 13, 14], [15, 16]], vocab={'cat': 0, 'feline': 1, 'likes': 2, 'purr': 3, 'dog': 4, 'human': 5, 'best': 6, 'friend': 7, 'loves': 8, 'play': 9, 'bird': 10, 'beautiful': 11, 'animal': 12, 'can': 13, 'fly': 14, 'cos': 15, 'pi': 16, '': 17})"
            ]
          },
          "execution_count": 7,
          "metadata": {},
          "output_type": "execute_result"
        }
      ],
      "source": [
        "corpus_tokens"
      ]
    },
    {
      "cell_type": "code",
      "execution_count": 3,
      "metadata": {},
      "outputs": [
        {
          "name": "stderr",
          "output_type": "stream",
          "text": [
            "                                                     "
          ]
        },
        {
          "name": "stdout",
          "output_type": "stream",
          "text": [
            "Best result (score: 0.86): a cat is a feline and likes to purr\n"
          ]
        },
        {
          "name": "stderr",
          "output_type": "stream",
          "text": [
            "\r"
          ]
        }
      ],
      "source": [
        "\n",
        "# You can now search the corpus with a query\n",
        "query = \"does the fish purr like a cat?\"\n",
        "query_tokens = bm25s.tokenize(query)\n",
        "docs, scores = retriever.retrieve(query_tokens, k=2)\n",
        "print(f\"Best result (score: {scores[0, 0]:.2f}): {docs[0, 0]}\")"
      ]
    },
    {
      "cell_type": "markdown",
      "metadata": {},
      "source": [
        "# Evaluate fasttext"
      ]
    },
    {
      "cell_type": "code",
      "execution_count": null,
      "metadata": {},
      "outputs": [],
      "source": [
        "import fasttext\n",
        "import numpy as np\n",
        "from sklearn.metrics import accuracy_score\n",
        "\n",
        "def train_and_evaluate(train_file, valid_file, epoch_values=[1, 5, 10, 20, 30, 50]):\n",
        "    best_epoch = None\n",
        "    best_acc = 0.0\n",
        "    \n",
        "    for epoch in epoch_values:\n",
        "        print(f\"Training with epoch = {epoch}\")\n",
        "        model = fasttext.train_supervised(train_file, epoch=epoch, lr=0.1, wordNgrams=2)\n",
        "        \n",
        "        # Evaluate on validation set\n",
        "        true_labels = []\n",
        "        pred_labels = []\n",
        "        \n",
        "        with open(valid_file, 'r', encoding='utf-8') as f:\n",
        "            for line in f:\n",
        "                if line.strip():\n",
        "                    parts = line.strip().split(\" \")\n",
        "                    label = parts[0]  # FastText assumes labels start with '__label__'\n",
        "                    text = \" \".join(parts[1:])\n",
        "                    pred = model.predict(text)[0][0]  # Get top prediction\n",
        "                    \n",
        "                    true_labels.append(label)\n",
        "                    pred_labels.append(pred)\n",
        "        \n",
        "        acc = accuracy_score(true_labels, pred_labels)\n",
        "        print(f\"Epoch {epoch} - Validation Accuracy: {acc:.4f}\")\n",
        "        \n",
        "        if acc > best_acc:\n",
        "            best_acc = acc\n",
        "            best_epoch = epoch\n",
        "    \n",
        "    print(f\"Best epoch: {best_epoch} with accuracy: {best_acc:.4f}\")\n",
        "    return best_epoch"
      ]
    },
    {
      "cell_type": "markdown",
      "metadata": {},
      "source": [
        "# Test"
      ]
    },
    {
      "cell_type": "code",
      "execution_count": null,
      "metadata": {},
      "outputs": [
        {
          "name": "stderr",
          "output_type": "stream",
          "text": [
            "Getting unique words: 100%|██████████| 3633/3633 [00:00<00:00, 55437.78it/s]\n"
          ]
        },
        {
          "ename": "TypeError",
          "evalue": "'_FastText' object does not support item assignment",
          "output_type": "error",
          "traceback": [
            "\u001b[1;31m---------------------------------------------------------------------------\u001b[0m",
            "\u001b[1;31mTypeError\u001b[0m                                 Traceback (most recent call last)",
            "Cell \u001b[1;32mIn[8], line 32\u001b[0m\n\u001b[0;32m     30\u001b[0m \u001b[38;5;28;01mfor\u001b[39;00m word \u001b[38;5;129;01min\u001b[39;00m model\u001b[38;5;241m.\u001b[39mwords:\n\u001b[0;32m     31\u001b[0m     \u001b[38;5;28;01mif\u001b[39;00m word \u001b[38;5;129;01mnot\u001b[39;00m \u001b[38;5;129;01min\u001b[39;00m pretrained_model\u001b[38;5;241m.\u001b[39mwords:\n\u001b[1;32m---> 32\u001b[0m         \u001b[43mpretrained_model\u001b[49m\u001b[43m[\u001b[49m\u001b[43mword\u001b[49m\u001b[43m]\u001b[49m \u001b[38;5;241m=\u001b[39m model[word]  \u001b[38;5;66;03m# Add missing words\u001b[39;00m\n\u001b[0;32m     34\u001b[0m \u001b[38;5;124;03m'''\u001b[39;00m\n\u001b[0;32m     35\u001b[0m \u001b[38;5;124;03m# Path to the output file\u001b[39;00m\n\u001b[0;32m     36\u001b[0m \u001b[38;5;124;03moutput_file = f\"word_vectors_{dataset}.txt\"\u001b[39;00m\n\u001b[1;32m   (...)\u001b[0m\n\u001b[0;32m     45\u001b[0m \u001b[38;5;124;03m        f.write(f\"{word} {vector_str}\\n\")\u001b[39;00m\n\u001b[0;32m     46\u001b[0m \u001b[38;5;124;03m'''\u001b[39;00m\n\u001b[0;32m     48\u001b[0m pretrained_model\u001b[38;5;241m.\u001b[39msave_model(\u001b[38;5;124mf\u001b[39m\u001b[38;5;124m'\u001b[39m\u001b[38;5;124mmodels/fasttext_\u001b[39m\u001b[38;5;132;01m{\u001b[39;00mdataset\u001b[38;5;132;01m}\u001b[39;00m\u001b[38;5;124m'\u001b[39m)\n",
            "\u001b[1;31mTypeError\u001b[0m: '_FastText' object does not support item assignment"
          ]
        }
      ],
      "source": [
        "import tempfile\n",
        "import fasttext\n",
        "import re\n",
        "import numpy as np\n",
        "from tqdm import tqdm\n",
        "\n",
        "\n",
        "print('load pretrained model')\n",
        "pretrained_model = fasttext.load_model(\"cc.en.100.bin\")\n",
        "print('pretrained model loaded')\n",
        "\n",
        "with open(\"pretrained.vec\", \"w\") as f:\n",
        "    f.write(f\"{len(pretrained_model.words)} 100\\n\")  # First line: vocab size, dimension\n",
        "    for word in tqdm(pretrained_model.words, 'writing vec files'):\n",
        "        vec = \" \".join(map(str, pretrained_model.get_word_vector(word)))\n",
        "        f.write(f\"{word} {vec}\\n\")\n",
        "\n",
        "print('training finetuned model')\n",
        "# Liste des mots à visualiser (tu peux la personnaliser)\n",
        "model = fasttext.train_unsupervised(temp_file_path, model='skipgram', pretrainedVectors='pretrained.vec')\n",
        "# Liste des mots à visualiser (tu peux la personnaliser)\n",
        "print(\"end of training finetuned model\")\n",
        "\n",
        "#words = re.findall(r'\\b\\w+\\b', text.lower())\n",
        "unique_words = list(get_unique_words(cleaned_corpus))\n",
        "#unique_words = list(set(words))\n",
        "\n",
        "# Obtenir les vecteurs pour les mots choisis\n",
        "word_vectors = np.array([model.get_word_vector(word) for word in unique_words])\n",
        "\n",
        "embeddings = pd.DataFrame(word_vectors, index=unique_words)\n",
        "embeddings.to_csv(f\"word_vectors/word_vectors_{dataset}.csv\", sep = ' ')\n",
        "'''\n",
        "# Path to the output file\n",
        "output_file = f\"word_vectors_{dataset}.txt\"\n",
        "\n",
        "# Open the file in write mode\n",
        "with open(output_file, \"w\") as f:\n",
        "    # Loop over each word and its corresponding vector\n",
        "    for word, vector in zip(unique_words, word_vectors):\n",
        "        # Convert the vector to a space-separated string\n",
        "        vector_str = ' '.join(map(str, vector))\n",
        "        # Write the word and its vector, followed by a newline\n",
        "        f.write(f\"{word} {vector_str}\\n\")\n",
        "'''\n",
        "\n",
        "model.save_model(f'models/fasttext_{dataset}')"
      ]
    },
    {
      "cell_type": "code",
      "execution_count": 9,
      "metadata": {},
      "outputs": [
        {
          "name": "stderr",
          "output_type": "stream",
          "text": [
            "Getting unique words: 100%|██████████| 57638/57638 [00:01<00:00, 55556.01it/s]\n"
          ]
        },
        {
          "data": {
            "text/plain": [
              "'\\n# Path to the output file\\noutput_file = f\"word_vectors_{dataset}.txt\"\\n\\n# Open the file in write mode\\nwith open(output_file, \"w\") as f:\\n    # Loop over each word and its corresponding vector\\n    for word, vector in zip(unique_words, word_vectors):\\n        # Convert the vector to a space-separated string\\n        vector_str = \\' \\'.join(map(str, vector))\\n        # Write the word and its vector, followed by a newline\\n        f.write(f\"{word} {vector_str}\\n\")\\n'"
            ]
          },
          "execution_count": 9,
          "metadata": {},
          "output_type": "execute_result"
        }
      ],
      "source": [
        "import tempfile\n",
        "import fasttext\n",
        "import re\n",
        "import numpy as np\n",
        "from tqdm import tqdm\n",
        "\n",
        "\n",
        "model = fasttext.load_model('cc.en.100.bin')\n",
        "unique_words = list(get_unique_words(cleaned_corpus))\n",
        "#unique_words = list(set(words))\n",
        "\n",
        "# Obtenir les vecteurs pour les mots choisis\n",
        "word_vectors = np.array([model.get_word_vector(word) for word in unique_words])\n",
        "\n",
        "embeddings = pd.DataFrame(word_vectors, index=unique_words)\n",
        "embeddings.to_csv(f\"word_vectors/word_vectors_{dataset}.csv\", sep = ' ')\n",
        "\n",
        "'''\n",
        "# Path to the output file\n",
        "output_file = f\"word_vectors_{dataset}.txt\"\n",
        "\n",
        "# Open the file in write mode\n",
        "with open(output_file, \"w\") as f:\n",
        "    # Loop over each word and its corresponding vector\n",
        "    for word, vector in zip(unique_words, word_vectors):\n",
        "        # Convert the vector to a space-separated string\n",
        "        vector_str = ' '.join(map(str, vector))\n",
        "        # Write the word and its vector, followed by a newline\n",
        "        f.write(f\"{word} {vector_str}\\n\")\n",
        "'''"
      ]
    }
  ],
  "metadata": {
    "colab": {
      "provenance": []
    },
    "kernelspec": {
      "display_name": "research_ir",
      "language": "python",
      "name": "python3"
    },
    "language_info": {
      "codemirror_mode": {
        "name": "ipython",
        "version": 3
      },
      "file_extension": ".py",
      "mimetype": "text/x-python",
      "name": "python",
      "nbconvert_exporter": "python",
      "pygments_lexer": "ipython3",
      "version": "3.12.3"
    },
    "widgets": {
      "application/vnd.jupyter.widget-state+json": {
        "042b85e7b9e44c0d888bb426c9f6eec4": {
          "model_module": "@jupyter-widgets/base",
          "model_module_version": "1.2.0",
          "model_name": "LayoutModel",
          "state": {
            "_model_module": "@jupyter-widgets/base",
            "_model_module_version": "1.2.0",
            "_model_name": "LayoutModel",
            "_view_count": null,
            "_view_module": "@jupyter-widgets/base",
            "_view_module_version": "1.2.0",
            "_view_name": "LayoutView",
            "align_content": null,
            "align_items": null,
            "align_self": null,
            "border": null,
            "bottom": null,
            "display": null,
            "flex": null,
            "flex_flow": null,
            "grid_area": null,
            "grid_auto_columns": null,
            "grid_auto_flow": null,
            "grid_auto_rows": null,
            "grid_column": null,
            "grid_gap": null,
            "grid_row": null,
            "grid_template_areas": null,
            "grid_template_columns": null,
            "grid_template_rows": null,
            "height": null,
            "justify_content": null,
            "justify_items": null,
            "left": null,
            "margin": null,
            "max_height": null,
            "max_width": null,
            "min_height": null,
            "min_width": null,
            "object_fit": null,
            "object_position": null,
            "order": null,
            "overflow": null,
            "overflow_x": null,
            "overflow_y": null,
            "padding": null,
            "right": null,
            "top": null,
            "visibility": null,
            "width": null
          }
        },
        "176ca720e2cf436da07fa656c78b1abe": {
          "model_module": "@jupyter-widgets/controls",
          "model_module_version": "1.5.0",
          "model_name": "DescriptionStyleModel",
          "state": {
            "_model_module": "@jupyter-widgets/controls",
            "_model_module_version": "1.5.0",
            "_model_name": "DescriptionStyleModel",
            "_view_count": null,
            "_view_module": "@jupyter-widgets/base",
            "_view_module_version": "1.2.0",
            "_view_name": "StyleView",
            "description_width": ""
          }
        },
        "22c443c470ab467dbe12284b1f940ac5": {
          "model_module": "@jupyter-widgets/controls",
          "model_module_version": "1.5.0",
          "model_name": "FloatProgressModel",
          "state": {
            "_dom_classes": [],
            "_model_module": "@jupyter-widgets/controls",
            "_model_module_version": "1.5.0",
            "_model_name": "FloatProgressModel",
            "_view_count": null,
            "_view_module": "@jupyter-widgets/controls",
            "_view_module_version": "1.5.0",
            "_view_name": "ProgressView",
            "bar_style": "success",
            "description": "",
            "description_tooltip": null,
            "layout": "IPY_MODEL_455372856b494568aa24358094f8f32f",
            "max": 17948027,
            "min": 0,
            "orientation": "horizontal",
            "style": "IPY_MODEL_ae74bc024549496a8c1b682804a378e6",
            "value": 17948027
          }
        },
        "2459823cf6114c718d161a9d187a14a6": {
          "model_module": "@jupyter-widgets/controls",
          "model_module_version": "1.5.0",
          "model_name": "DescriptionStyleModel",
          "state": {
            "_model_module": "@jupyter-widgets/controls",
            "_model_module_version": "1.5.0",
            "_model_name": "DescriptionStyleModel",
            "_view_count": null,
            "_view_module": "@jupyter-widgets/base",
            "_view_module_version": "1.2.0",
            "_view_name": "StyleView",
            "description_width": ""
          }
        },
        "2c94860fac854225b49cbce8413ba914": {
          "model_module": "@jupyter-widgets/controls",
          "model_module_version": "1.5.0",
          "model_name": "HTMLModel",
          "state": {
            "_dom_classes": [],
            "_model_module": "@jupyter-widgets/controls",
            "_model_module_version": "1.5.0",
            "_model_name": "HTMLModel",
            "_view_count": null,
            "_view_module": "@jupyter-widgets/controls",
            "_view_module_version": "1.5.0",
            "_view_name": "HTMLView",
            "description": "",
            "description_tooltip": null,
            "layout": "IPY_MODEL_967d2fc61b964743875cae0a4c482de6",
            "placeholder": "​",
            "style": "IPY_MODEL_d56a89cb42ec4e8595f6f714fee18c7a",
            "value": "datasets/fiqa.zip: 100%"
          }
        },
        "39839d2064c04842871c9c9e06ef0bdc": {
          "model_module": "@jupyter-widgets/controls",
          "model_module_version": "1.5.0",
          "model_name": "HTMLModel",
          "state": {
            "_dom_classes": [],
            "_model_module": "@jupyter-widgets/controls",
            "_model_module_version": "1.5.0",
            "_model_name": "HTMLModel",
            "_view_count": null,
            "_view_module": "@jupyter-widgets/controls",
            "_view_module_version": "1.5.0",
            "_view_name": "HTMLView",
            "description": "",
            "description_tooltip": null,
            "layout": "IPY_MODEL_dd08cccfa11045b3bc44ad5c5b2f472a",
            "placeholder": "​",
            "style": "IPY_MODEL_b0fbec7c98b24e92b3f4403e69e48188",
            "value": " 57638/57638 [00:00&lt;00:00, 95908.54it/s]"
          }
        },
        "3f4601e890e245c2a83fd4b735c1e49f": {
          "model_module": "@jupyter-widgets/base",
          "model_module_version": "1.2.0",
          "model_name": "LayoutModel",
          "state": {
            "_model_module": "@jupyter-widgets/base",
            "_model_module_version": "1.2.0",
            "_model_name": "LayoutModel",
            "_view_count": null,
            "_view_module": "@jupyter-widgets/base",
            "_view_module_version": "1.2.0",
            "_view_name": "LayoutView",
            "align_content": null,
            "align_items": null,
            "align_self": null,
            "border": null,
            "bottom": null,
            "display": null,
            "flex": null,
            "flex_flow": null,
            "grid_area": null,
            "grid_auto_columns": null,
            "grid_auto_flow": null,
            "grid_auto_rows": null,
            "grid_column": null,
            "grid_gap": null,
            "grid_row": null,
            "grid_template_areas": null,
            "grid_template_columns": null,
            "grid_template_rows": null,
            "height": null,
            "justify_content": null,
            "justify_items": null,
            "left": null,
            "margin": null,
            "max_height": null,
            "max_width": null,
            "min_height": null,
            "min_width": null,
            "object_fit": null,
            "object_position": null,
            "order": null,
            "overflow": null,
            "overflow_x": null,
            "overflow_y": null,
            "padding": null,
            "right": null,
            "top": null,
            "visibility": null,
            "width": null
          }
        },
        "455372856b494568aa24358094f8f32f": {
          "model_module": "@jupyter-widgets/base",
          "model_module_version": "1.2.0",
          "model_name": "LayoutModel",
          "state": {
            "_model_module": "@jupyter-widgets/base",
            "_model_module_version": "1.2.0",
            "_model_name": "LayoutModel",
            "_view_count": null,
            "_view_module": "@jupyter-widgets/base",
            "_view_module_version": "1.2.0",
            "_view_name": "LayoutView",
            "align_content": null,
            "align_items": null,
            "align_self": null,
            "border": null,
            "bottom": null,
            "display": null,
            "flex": null,
            "flex_flow": null,
            "grid_area": null,
            "grid_auto_columns": null,
            "grid_auto_flow": null,
            "grid_auto_rows": null,
            "grid_column": null,
            "grid_gap": null,
            "grid_row": null,
            "grid_template_areas": null,
            "grid_template_columns": null,
            "grid_template_rows": null,
            "height": null,
            "justify_content": null,
            "justify_items": null,
            "left": null,
            "margin": null,
            "max_height": null,
            "max_width": null,
            "min_height": null,
            "min_width": null,
            "object_fit": null,
            "object_position": null,
            "order": null,
            "overflow": null,
            "overflow_x": null,
            "overflow_y": null,
            "padding": null,
            "right": null,
            "top": null,
            "visibility": null,
            "width": null
          }
        },
        "4ad0bf1fe35542e988f6c6d60e135713": {
          "model_module": "@jupyter-widgets/controls",
          "model_module_version": "1.5.0",
          "model_name": "HBoxModel",
          "state": {
            "_dom_classes": [],
            "_model_module": "@jupyter-widgets/controls",
            "_model_module_version": "1.5.0",
            "_model_name": "HBoxModel",
            "_view_count": null,
            "_view_module": "@jupyter-widgets/controls",
            "_view_module_version": "1.5.0",
            "_view_name": "HBoxView",
            "box_style": "",
            "children": [
              "IPY_MODEL_2c94860fac854225b49cbce8413ba914",
              "IPY_MODEL_22c443c470ab467dbe12284b1f940ac5",
              "IPY_MODEL_d57c4cc52f4c45749cad23ca0abd2022"
            ],
            "layout": "IPY_MODEL_042b85e7b9e44c0d888bb426c9f6eec4"
          }
        },
        "51a09a65d0ed47e89a9e0a10af712abc": {
          "model_module": "@jupyter-widgets/base",
          "model_module_version": "1.2.0",
          "model_name": "LayoutModel",
          "state": {
            "_model_module": "@jupyter-widgets/base",
            "_model_module_version": "1.2.0",
            "_model_name": "LayoutModel",
            "_view_count": null,
            "_view_module": "@jupyter-widgets/base",
            "_view_module_version": "1.2.0",
            "_view_name": "LayoutView",
            "align_content": null,
            "align_items": null,
            "align_self": null,
            "border": null,
            "bottom": null,
            "display": null,
            "flex": null,
            "flex_flow": null,
            "grid_area": null,
            "grid_auto_columns": null,
            "grid_auto_flow": null,
            "grid_auto_rows": null,
            "grid_column": null,
            "grid_gap": null,
            "grid_row": null,
            "grid_template_areas": null,
            "grid_template_columns": null,
            "grid_template_rows": null,
            "height": null,
            "justify_content": null,
            "justify_items": null,
            "left": null,
            "margin": null,
            "max_height": null,
            "max_width": null,
            "min_height": null,
            "min_width": null,
            "object_fit": null,
            "object_position": null,
            "order": null,
            "overflow": null,
            "overflow_x": null,
            "overflow_y": null,
            "padding": null,
            "right": null,
            "top": null,
            "visibility": null,
            "width": null
          }
        },
        "967d2fc61b964743875cae0a4c482de6": {
          "model_module": "@jupyter-widgets/base",
          "model_module_version": "1.2.0",
          "model_name": "LayoutModel",
          "state": {
            "_model_module": "@jupyter-widgets/base",
            "_model_module_version": "1.2.0",
            "_model_name": "LayoutModel",
            "_view_count": null,
            "_view_module": "@jupyter-widgets/base",
            "_view_module_version": "1.2.0",
            "_view_name": "LayoutView",
            "align_content": null,
            "align_items": null,
            "align_self": null,
            "border": null,
            "bottom": null,
            "display": null,
            "flex": null,
            "flex_flow": null,
            "grid_area": null,
            "grid_auto_columns": null,
            "grid_auto_flow": null,
            "grid_auto_rows": null,
            "grid_column": null,
            "grid_gap": null,
            "grid_row": null,
            "grid_template_areas": null,
            "grid_template_columns": null,
            "grid_template_rows": null,
            "height": null,
            "justify_content": null,
            "justify_items": null,
            "left": null,
            "margin": null,
            "max_height": null,
            "max_width": null,
            "min_height": null,
            "min_width": null,
            "object_fit": null,
            "object_position": null,
            "order": null,
            "overflow": null,
            "overflow_x": null,
            "overflow_y": null,
            "padding": null,
            "right": null,
            "top": null,
            "visibility": null,
            "width": null
          }
        },
        "abc810e74f674ab79de395273fa19bb2": {
          "model_module": "@jupyter-widgets/controls",
          "model_module_version": "1.5.0",
          "model_name": "FloatProgressModel",
          "state": {
            "_dom_classes": [],
            "_model_module": "@jupyter-widgets/controls",
            "_model_module_version": "1.5.0",
            "_model_name": "FloatProgressModel",
            "_view_count": null,
            "_view_module": "@jupyter-widgets/controls",
            "_view_module_version": "1.5.0",
            "_view_name": "ProgressView",
            "bar_style": "success",
            "description": "",
            "description_tooltip": null,
            "layout": "IPY_MODEL_f35c4b3e0f9d4f209e5cd8f1cb84f70b",
            "max": 57638,
            "min": 0,
            "orientation": "horizontal",
            "style": "IPY_MODEL_fbfa9b8644c14214b027ac229d1245cc",
            "value": 57638
          }
        },
        "ae74bc024549496a8c1b682804a378e6": {
          "model_module": "@jupyter-widgets/controls",
          "model_module_version": "1.5.0",
          "model_name": "ProgressStyleModel",
          "state": {
            "_model_module": "@jupyter-widgets/controls",
            "_model_module_version": "1.5.0",
            "_model_name": "ProgressStyleModel",
            "_view_count": null,
            "_view_module": "@jupyter-widgets/base",
            "_view_module_version": "1.2.0",
            "_view_name": "StyleView",
            "bar_color": null,
            "description_width": ""
          }
        },
        "b0fbec7c98b24e92b3f4403e69e48188": {
          "model_module": "@jupyter-widgets/controls",
          "model_module_version": "1.5.0",
          "model_name": "DescriptionStyleModel",
          "state": {
            "_model_module": "@jupyter-widgets/controls",
            "_model_module_version": "1.5.0",
            "_model_name": "DescriptionStyleModel",
            "_view_count": null,
            "_view_module": "@jupyter-widgets/base",
            "_view_module_version": "1.2.0",
            "_view_name": "StyleView",
            "description_width": ""
          }
        },
        "c154a37e00c34adfa522046d73875a8d": {
          "model_module": "@jupyter-widgets/controls",
          "model_module_version": "1.5.0",
          "model_name": "HBoxModel",
          "state": {
            "_dom_classes": [],
            "_model_module": "@jupyter-widgets/controls",
            "_model_module_version": "1.5.0",
            "_model_name": "HBoxModel",
            "_view_count": null,
            "_view_module": "@jupyter-widgets/controls",
            "_view_module_version": "1.5.0",
            "_view_name": "HBoxView",
            "box_style": "",
            "children": [
              "IPY_MODEL_c69de4051f134017bc5526eef9efc08e",
              "IPY_MODEL_abc810e74f674ab79de395273fa19bb2",
              "IPY_MODEL_39839d2064c04842871c9c9e06ef0bdc"
            ],
            "layout": "IPY_MODEL_cac35b0a44a94763aba300f1bb63bc31"
          }
        },
        "c69de4051f134017bc5526eef9efc08e": {
          "model_module": "@jupyter-widgets/controls",
          "model_module_version": "1.5.0",
          "model_name": "HTMLModel",
          "state": {
            "_dom_classes": [],
            "_model_module": "@jupyter-widgets/controls",
            "_model_module_version": "1.5.0",
            "_model_name": "HTMLModel",
            "_view_count": null,
            "_view_module": "@jupyter-widgets/controls",
            "_view_module_version": "1.5.0",
            "_view_name": "HTMLView",
            "description": "",
            "description_tooltip": null,
            "layout": "IPY_MODEL_3f4601e890e245c2a83fd4b735c1e49f",
            "placeholder": "​",
            "style": "IPY_MODEL_176ca720e2cf436da07fa656c78b1abe",
            "value": "100%"
          }
        },
        "cac35b0a44a94763aba300f1bb63bc31": {
          "model_module": "@jupyter-widgets/base",
          "model_module_version": "1.2.0",
          "model_name": "LayoutModel",
          "state": {
            "_model_module": "@jupyter-widgets/base",
            "_model_module_version": "1.2.0",
            "_model_name": "LayoutModel",
            "_view_count": null,
            "_view_module": "@jupyter-widgets/base",
            "_view_module_version": "1.2.0",
            "_view_name": "LayoutView",
            "align_content": null,
            "align_items": null,
            "align_self": null,
            "border": null,
            "bottom": null,
            "display": null,
            "flex": null,
            "flex_flow": null,
            "grid_area": null,
            "grid_auto_columns": null,
            "grid_auto_flow": null,
            "grid_auto_rows": null,
            "grid_column": null,
            "grid_gap": null,
            "grid_row": null,
            "grid_template_areas": null,
            "grid_template_columns": null,
            "grid_template_rows": null,
            "height": null,
            "justify_content": null,
            "justify_items": null,
            "left": null,
            "margin": null,
            "max_height": null,
            "max_width": null,
            "min_height": null,
            "min_width": null,
            "object_fit": null,
            "object_position": null,
            "order": null,
            "overflow": null,
            "overflow_x": null,
            "overflow_y": null,
            "padding": null,
            "right": null,
            "top": null,
            "visibility": null,
            "width": null
          }
        },
        "d56a89cb42ec4e8595f6f714fee18c7a": {
          "model_module": "@jupyter-widgets/controls",
          "model_module_version": "1.5.0",
          "model_name": "DescriptionStyleModel",
          "state": {
            "_model_module": "@jupyter-widgets/controls",
            "_model_module_version": "1.5.0",
            "_model_name": "DescriptionStyleModel",
            "_view_count": null,
            "_view_module": "@jupyter-widgets/base",
            "_view_module_version": "1.2.0",
            "_view_name": "StyleView",
            "description_width": ""
          }
        },
        "d57c4cc52f4c45749cad23ca0abd2022": {
          "model_module": "@jupyter-widgets/controls",
          "model_module_version": "1.5.0",
          "model_name": "HTMLModel",
          "state": {
            "_dom_classes": [],
            "_model_module": "@jupyter-widgets/controls",
            "_model_module_version": "1.5.0",
            "_model_name": "HTMLModel",
            "_view_count": null,
            "_view_module": "@jupyter-widgets/controls",
            "_view_module_version": "1.5.0",
            "_view_name": "HTMLView",
            "description": "",
            "description_tooltip": null,
            "layout": "IPY_MODEL_51a09a65d0ed47e89a9e0a10af712abc",
            "placeholder": "​",
            "style": "IPY_MODEL_2459823cf6114c718d161a9d187a14a6",
            "value": " 17.1M/17.1M [00:13&lt;00:00, 5.52MiB/s]"
          }
        },
        "dd08cccfa11045b3bc44ad5c5b2f472a": {
          "model_module": "@jupyter-widgets/base",
          "model_module_version": "1.2.0",
          "model_name": "LayoutModel",
          "state": {
            "_model_module": "@jupyter-widgets/base",
            "_model_module_version": "1.2.0",
            "_model_name": "LayoutModel",
            "_view_count": null,
            "_view_module": "@jupyter-widgets/base",
            "_view_module_version": "1.2.0",
            "_view_name": "LayoutView",
            "align_content": null,
            "align_items": null,
            "align_self": null,
            "border": null,
            "bottom": null,
            "display": null,
            "flex": null,
            "flex_flow": null,
            "grid_area": null,
            "grid_auto_columns": null,
            "grid_auto_flow": null,
            "grid_auto_rows": null,
            "grid_column": null,
            "grid_gap": null,
            "grid_row": null,
            "grid_template_areas": null,
            "grid_template_columns": null,
            "grid_template_rows": null,
            "height": null,
            "justify_content": null,
            "justify_items": null,
            "left": null,
            "margin": null,
            "max_height": null,
            "max_width": null,
            "min_height": null,
            "min_width": null,
            "object_fit": null,
            "object_position": null,
            "order": null,
            "overflow": null,
            "overflow_x": null,
            "overflow_y": null,
            "padding": null,
            "right": null,
            "top": null,
            "visibility": null,
            "width": null
          }
        },
        "f35c4b3e0f9d4f209e5cd8f1cb84f70b": {
          "model_module": "@jupyter-widgets/base",
          "model_module_version": "1.2.0",
          "model_name": "LayoutModel",
          "state": {
            "_model_module": "@jupyter-widgets/base",
            "_model_module_version": "1.2.0",
            "_model_name": "LayoutModel",
            "_view_count": null,
            "_view_module": "@jupyter-widgets/base",
            "_view_module_version": "1.2.0",
            "_view_name": "LayoutView",
            "align_content": null,
            "align_items": null,
            "align_self": null,
            "border": null,
            "bottom": null,
            "display": null,
            "flex": null,
            "flex_flow": null,
            "grid_area": null,
            "grid_auto_columns": null,
            "grid_auto_flow": null,
            "grid_auto_rows": null,
            "grid_column": null,
            "grid_gap": null,
            "grid_row": null,
            "grid_template_areas": null,
            "grid_template_columns": null,
            "grid_template_rows": null,
            "height": null,
            "justify_content": null,
            "justify_items": null,
            "left": null,
            "margin": null,
            "max_height": null,
            "max_width": null,
            "min_height": null,
            "min_width": null,
            "object_fit": null,
            "object_position": null,
            "order": null,
            "overflow": null,
            "overflow_x": null,
            "overflow_y": null,
            "padding": null,
            "right": null,
            "top": null,
            "visibility": null,
            "width": null
          }
        },
        "fbfa9b8644c14214b027ac229d1245cc": {
          "model_module": "@jupyter-widgets/controls",
          "model_module_version": "1.5.0",
          "model_name": "ProgressStyleModel",
          "state": {
            "_model_module": "@jupyter-widgets/controls",
            "_model_module_version": "1.5.0",
            "_model_name": "ProgressStyleModel",
            "_view_count": null,
            "_view_module": "@jupyter-widgets/base",
            "_view_module_version": "1.2.0",
            "_view_name": "StyleView",
            "bar_color": null,
            "description_width": ""
          }
        }
      }
    }
  },
  "nbformat": 4,
  "nbformat_minor": 0
}
