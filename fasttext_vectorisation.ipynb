{
  "cells": [
    {
      "cell_type": "code",
      "execution_count": 1,
      "metadata": {
        "colab": {
          "base_uri": "https://localhost:8080/"
        },
        "id": "phKEMi6dp3v1",
        "outputId": "872f3ca4-2156-468a-b752-79acdb7e8dd1"
      },
      "outputs": [
        {
          "name": "stderr",
          "output_type": "stream",
          "text": [
            "/home/maxkev/anaconda3/lib/python3.12/site-packages/beir/util.py:2: TqdmExperimentalWarning: Using `tqdm.autonotebook.tqdm` in notebook mode. Use `tqdm.tqdm` instead to force console mode (e.g. in jupyter console)\n",
            "  from tqdm.autonotebook import tqdm\n"
          ]
        }
      ],
      "source": [
        "import matplotlib.pyplot as plt\n",
        "\n",
        "from tqdm import tqdm\n",
        "\n",
        "from beir import util, LoggingHandler\n",
        "from beir.datasets.data_loader import GenericDataLoader\n",
        "from beir.retrieval.evaluation import EvaluateRetrieval\n",
        "\n",
        "#from utils_func import corpus_processing, matrix_creation, clustering, retriever_model\n",
        "\n",
        "import os"
      ]
    },
    {
      "cell_type": "code",
      "execution_count": 2,
      "metadata": {
        "id": "dM3A9iS6rFGF"
      },
      "outputs": [],
      "source": [
        "import spacy\n",
        "from tqdm import tqdm\n",
        "import pandas as pd\n",
        "\n",
        "from multiprocessing import Pool, cpu_count\n",
        "import multiprocessing\n",
        "multiprocessing.set_start_method(\"spawn\", force=True)\n",
        "\n",
        "nlp = spacy.load('en_core_web_sm')\n",
        "stopwords = nlp.Defaults.stop_words\n",
        "clean_tokens = lambda tokens : ' '.join([token.lemma_.lower() for token in tokens if token.lemma_.lower() not in stopwords and not token.is_punct])\n",
        "\n",
        "def pre_process(elem_to_preprocess: tuple[int, dict[str,str]]) -> tuple[int, str]:\n",
        "  \"\"\"\n",
        "  Preprocesses the text data in the corpus\\n\n",
        "  :param elem_to_preprocess: Tuple containing the key and the value of the element to preprocess\\n\n",
        "  :return: Tuple containing the key and the preprocessed text data\\n\n",
        "  \"\"\"\n",
        "\n",
        "  key, val = elem_to_preprocess\n",
        "  return key, f\"{clean_tokens(nlp(val['title'].lower()))} {clean_tokens(nlp(val['text'].lower()))}\" # Cleaning the text document\n",
        "\n",
        "# Helper function to process a single key-value pair\n",
        "def process_item(item):\n",
        "    key, value = item\n",
        "    return key, pre_process((key, value))[1]\n",
        "\n",
        "def preprocess_corpus_dict(corpus: dict[int, dict[str, str]]) -> dict[int, str]:\n",
        "    \"\"\"\n",
        "    Preprocesses the text data in the corpus in parallel\\n\n",
        "    :param corpus: The corpus to preprocess\n",
        "    :return: The preprocessed corpus\n",
        "    \"\"\"\n",
        "    # Convert the corpus to a list of items for parallel processing\n",
        "    items = list(corpus.items())\n",
        "\n",
        "    # Use a multiprocessing pool for parallel execution\n",
        "    with Pool(cpu_count()) as pool:\n",
        "        results = list(tqdm(pool.imap(process_item, items), total=len(items)))\n",
        "\n",
        "    # Combine results into a dictionary\n",
        "    cleaned_corpus = {key: value for key, value in results}\n",
        "\n",
        "    return cleaned_corpus\n",
        "\n",
        "\"\"\" Non parallel version\n",
        "\n",
        "def preprocess_corpus_dict(corpus: dict[int, dict[str,str]]) -> dict[int, str]:\n",
        "    '''\n",
        "    Preprocesses the text data in the corpus\\n\n",
        "    :param corpus: The corpus to preprocess\\n\n",
        "    :return: The preprocessed corpus\\n\n",
        "    '''\n",
        "    cleaned_corpus = {}\n",
        "    for key in tqdm(corpus.keys()):\n",
        "        cleaned_corpus[key] = pre_process((key, corpus[key]))[1]\n",
        "    return cleaned_corpus\n",
        "\"\"\"\n",
        "\n",
        "def get_unique_words(corpus:dict[int, str]) -> set:\n",
        "    \"\"\"\n",
        "    Function to find the unique words in a corpus\n",
        "    :param corpus: dict[int, str] - a dictionary with the key being the document id and the value being the document text\n",
        "    :return: set - a set of unique words in the corpus\n",
        "    \"\"\"\n",
        "    unique_words = set()\n",
        "    for doc_id in tqdm(corpus, desc=\"Getting unique words\"):\n",
        "        text = corpus[doc_id]\n",
        "        text = text.split()\n",
        "        for word in text:\n",
        "            unique_words.add(word)\n",
        "    return unique_words\n",
        "\n",
        "def save_processed_corpus(corpus, path_to_save):\n",
        "    \"\"\"\n",
        "    Saves the preprocessed corpus to a csv file\\n\n",
        "    :param corpus: The preprocessed corpus\\n\n",
        "    :param path_to_save: The path to save the preprocessed corpus\\n\n",
        "    \"\"\"\n",
        "\n",
        "    df = pd.DataFrame.from_dict(corpus, orient='index')\n",
        "    df.reset_index(inplace=True)\n",
        "    df.columns = [\"doc_id\", \"text\"]\n",
        "    df.to_csv(path_to_save, index=False)"
      ]
    },
    {
      "cell_type": "code",
      "execution_count": 3,
      "metadata": {},
      "outputs": [],
      "source": [
        "from utils_func import corpus_processing"
      ]
    },
    {
      "cell_type": "code",
      "execution_count": 4,
      "metadata": {
        "colab": {
          "base_uri": "https://localhost:8080/",
          "height": 81,
          "referenced_widgets": [
            "4ad0bf1fe35542e988f6c6d60e135713",
            "2c94860fac854225b49cbce8413ba914",
            "22c443c470ab467dbe12284b1f940ac5",
            "d57c4cc52f4c45749cad23ca0abd2022",
            "042b85e7b9e44c0d888bb426c9f6eec4",
            "967d2fc61b964743875cae0a4c482de6",
            "d56a89cb42ec4e8595f6f714fee18c7a",
            "455372856b494568aa24358094f8f32f",
            "ae74bc024549496a8c1b682804a378e6",
            "51a09a65d0ed47e89a9e0a10af712abc",
            "2459823cf6114c718d161a9d187a14a6",
            "c154a37e00c34adfa522046d73875a8d",
            "c69de4051f134017bc5526eef9efc08e",
            "abc810e74f674ab79de395273fa19bb2",
            "39839d2064c04842871c9c9e06ef0bdc",
            "cac35b0a44a94763aba300f1bb63bc31",
            "3f4601e890e245c2a83fd4b735c1e49f",
            "176ca720e2cf436da07fa656c78b1abe",
            "f35c4b3e0f9d4f209e5cd8f1cb84f70b",
            "fbfa9b8644c14214b027ac229d1245cc",
            "dd08cccfa11045b3bc44ad5c5b2f472a",
            "b0fbec7c98b24e92b3f4403e69e48188"
          ]
        },
        "id": "Up21e6m-p3v2",
        "outputId": "7094693d-3b30-40fe-cb52-cd68592dbeb7"
      },
      "outputs": [
        {
          "data": {
            "application/vnd.jupyter.widget-view+json": {
              "model_id": "0bda4321131846428dd490250fbe9d38",
              "version_major": 2,
              "version_minor": 0
            },
            "text/plain": [
              "  0%|          | 0/3633 [00:00<?, ?it/s]"
            ]
          },
          "metadata": {},
          "output_type": "display_data"
        }
      ],
      "source": [
        "# Example corpus and queries (replace with your actual data)\n",
        "dataset = \"nfcorpus\"\n",
        "#dataset = \"fiqa\"\n",
        "url = \"https://public.ukp.informatik.tu-darmstadt.de/thakur/BEIR/datasets/{}.zip\".format(dataset)\n",
        "data_path = util.download_and_unzip(url, \"datasets\")\n",
        "data_path = f\"datasets/{dataset}\"\n",
        "corpus, queries, qrels = GenericDataLoader(data_folder=data_path).load(split=\"test\")"
      ]
    },
    {
      "cell_type": "code",
      "execution_count": 5,
      "metadata": {
        "colab": {
          "base_uri": "https://localhost:8080/"
        },
        "id": "R6-elVdHoKvw",
        "outputId": "4a5be8a7-d0ba-4e1e-de75-14e313582d9d"
      },
      "outputs": [
        {
          "name": "stderr",
          "output_type": "stream",
          "text": [
            "Prétraitement du corpus: 100%|██████████| 3633/3633 [00:18<00:00, 197.50it/s]\n"
          ]
        }
      ],
      "source": [
        "cleaned_corpus = corpus_processing.preprocess_corpus_dict(corpus)"
      ]
    },
    {
      "cell_type": "code",
      "execution_count": 6,
      "metadata": {
        "colab": {
          "base_uri": "https://localhost:8080/"
        },
        "id": "Qpeo3y_LaFcL",
        "outputId": "b556f2cc-77bb-4b00-97dd-3320f34b0d33"
      },
      "outputs": [
        {
          "name": "stderr",
          "output_type": "stream",
          "text": [
            "100%|██████████| 3633/3633 [00:00<00:00, 367249.26it/s]\n"
          ]
        }
      ],
      "source": [
        "import tempfile\n",
        "\n",
        "with tempfile.NamedTemporaryFile(delete=False, mode='w', encoding='utf-8') as temp_file:\n",
        "    for keys in tqdm(cleaned_corpus.keys()):\n",
        "        temp_file.write(f\"{cleaned_corpus[keys]}\\n\")\n",
        "    temp_file_path = temp_file.name"
      ]
    },
    {
      "cell_type": "code",
      "execution_count": 7,
      "metadata": {
        "colab": {
          "base_uri": "https://localhost:8080/",
          "height": 70
        },
        "id": "Xur8ECckp3v2",
        "outputId": "61f8a919-1bd6-4f93-e8b3-e48e725d8ef6"
      },
      "outputs": [
        {
          "name": "stderr",
          "output_type": "stream",
          "text": [
            "Read 0M words\n",
            "Number of words:  8630\n",
            "Number of labels: 0\n",
            "Progress: 100.0% words/sec/thread:   32343 lr:  0.000000 avg.loss:  2.150900 ETA:   0h 0m 0s\n",
            "Getting unique words: 100%|██████████| 3633/3633 [00:00<00:00, 60165.15it/s]\n"
          ]
        }
      ],
      "source": [
        "import tempfile\n",
        "import fasttext\n",
        "import re\n",
        "import numpy as np\n",
        "\n",
        "'''\n",
        "with tempfile.NamedTemporaryFile(delete=False, mode='w', encoding='utf-8') as temp_file:\n",
        "    temp_file.write(text)\n",
        "    temp_file_path = temp_file.name\n",
        "'''\n",
        "# Entraîner le modèle FastText avec le fichier temporaire\n",
        "model = fasttext.train_unsupervised(temp_file_path, model='skipgram')\n",
        "# Liste des mots à visualiser (tu peux la personnaliser)\n",
        "\n",
        "#words = re.findall(r'\\b\\w+\\b', text.lower())\n",
        "unique_words = list(get_unique_words(cleaned_corpus))\n",
        "#unique_words = list(set(words))\n",
        "\n",
        "# Obtenir les vecteurs pour les mots choisis\n",
        "word_vectors = np.array([model.get_word_vector(word) for word in unique_words])\n",
        "\n",
        "embeddings = pd.DataFrame(word_vectors, index=unique_words)\n",
        "embeddings.to_csv(f\"word_vectors_{dataset}.csv\", sep = ' ')\n",
        "'''\n",
        "# Path to the output file\n",
        "output_file = f\"word_vectors_{dataset}.txt\"\n",
        "\n",
        "# Open the file in write mode\n",
        "with open(output_file, \"w\") as f:\n",
        "    # Loop over each word and its corresponding vector\n",
        "    for word, vector in zip(unique_words, word_vectors):\n",
        "        # Convert the vector to a space-separated string\n",
        "        vector_str = ' '.join(map(str, vector))\n",
        "        # Write the word and its vector, followed by a newline\n",
        "        f.write(f\"{word} {vector_str}\\n\")\n",
        "'''\n",
        "\n",
        "model.save_model(f'fasttext_{dataset}')"
      ]
    },
    {
      "cell_type": "code",
      "execution_count": 8,
      "metadata": {
        "colab": {
          "base_uri": "https://localhost:8080/"
        },
        "id": "8738Vqhjstfo",
        "outputId": "b13a2931-12de-4fe5-9416-2add5aadcb15"
      },
      "outputs": [
        {
          "data": {
            "text/plain": [
              "303557"
            ]
          },
          "execution_count": 8,
          "metadata": {},
          "output_type": "execute_result"
        }
      ],
      "source": [
        "len(unique_words)"
      ]
    }
  ],
  "metadata": {
    "colab": {
      "provenance": []
    },
    "kernelspec": {
      "display_name": "base",
      "language": "python",
      "name": "python3"
    },
    "language_info": {
      "codemirror_mode": {
        "name": "ipython",
        "version": 3
      },
      "file_extension": ".py",
      "mimetype": "text/x-python",
      "name": "python",
      "nbconvert_exporter": "python",
      "pygments_lexer": "ipython3",
      "version": "3.12.2"
    },
    "widgets": {
      "application/vnd.jupyter.widget-state+json": {
        "042b85e7b9e44c0d888bb426c9f6eec4": {
          "model_module": "@jupyter-widgets/base",
          "model_module_version": "1.2.0",
          "model_name": "LayoutModel",
          "state": {
            "_model_module": "@jupyter-widgets/base",
            "_model_module_version": "1.2.0",
            "_model_name": "LayoutModel",
            "_view_count": null,
            "_view_module": "@jupyter-widgets/base",
            "_view_module_version": "1.2.0",
            "_view_name": "LayoutView",
            "align_content": null,
            "align_items": null,
            "align_self": null,
            "border": null,
            "bottom": null,
            "display": null,
            "flex": null,
            "flex_flow": null,
            "grid_area": null,
            "grid_auto_columns": null,
            "grid_auto_flow": null,
            "grid_auto_rows": null,
            "grid_column": null,
            "grid_gap": null,
            "grid_row": null,
            "grid_template_areas": null,
            "grid_template_columns": null,
            "grid_template_rows": null,
            "height": null,
            "justify_content": null,
            "justify_items": null,
            "left": null,
            "margin": null,
            "max_height": null,
            "max_width": null,
            "min_height": null,
            "min_width": null,
            "object_fit": null,
            "object_position": null,
            "order": null,
            "overflow": null,
            "overflow_x": null,
            "overflow_y": null,
            "padding": null,
            "right": null,
            "top": null,
            "visibility": null,
            "width": null
          }
        },
        "176ca720e2cf436da07fa656c78b1abe": {
          "model_module": "@jupyter-widgets/controls",
          "model_module_version": "1.5.0",
          "model_name": "DescriptionStyleModel",
          "state": {
            "_model_module": "@jupyter-widgets/controls",
            "_model_module_version": "1.5.0",
            "_model_name": "DescriptionStyleModel",
            "_view_count": null,
            "_view_module": "@jupyter-widgets/base",
            "_view_module_version": "1.2.0",
            "_view_name": "StyleView",
            "description_width": ""
          }
        },
        "22c443c470ab467dbe12284b1f940ac5": {
          "model_module": "@jupyter-widgets/controls",
          "model_module_version": "1.5.0",
          "model_name": "FloatProgressModel",
          "state": {
            "_dom_classes": [],
            "_model_module": "@jupyter-widgets/controls",
            "_model_module_version": "1.5.0",
            "_model_name": "FloatProgressModel",
            "_view_count": null,
            "_view_module": "@jupyter-widgets/controls",
            "_view_module_version": "1.5.0",
            "_view_name": "ProgressView",
            "bar_style": "success",
            "description": "",
            "description_tooltip": null,
            "layout": "IPY_MODEL_455372856b494568aa24358094f8f32f",
            "max": 17948027,
            "min": 0,
            "orientation": "horizontal",
            "style": "IPY_MODEL_ae74bc024549496a8c1b682804a378e6",
            "value": 17948027
          }
        },
        "2459823cf6114c718d161a9d187a14a6": {
          "model_module": "@jupyter-widgets/controls",
          "model_module_version": "1.5.0",
          "model_name": "DescriptionStyleModel",
          "state": {
            "_model_module": "@jupyter-widgets/controls",
            "_model_module_version": "1.5.0",
            "_model_name": "DescriptionStyleModel",
            "_view_count": null,
            "_view_module": "@jupyter-widgets/base",
            "_view_module_version": "1.2.0",
            "_view_name": "StyleView",
            "description_width": ""
          }
        },
        "2c94860fac854225b49cbce8413ba914": {
          "model_module": "@jupyter-widgets/controls",
          "model_module_version": "1.5.0",
          "model_name": "HTMLModel",
          "state": {
            "_dom_classes": [],
            "_model_module": "@jupyter-widgets/controls",
            "_model_module_version": "1.5.0",
            "_model_name": "HTMLModel",
            "_view_count": null,
            "_view_module": "@jupyter-widgets/controls",
            "_view_module_version": "1.5.0",
            "_view_name": "HTMLView",
            "description": "",
            "description_tooltip": null,
            "layout": "IPY_MODEL_967d2fc61b964743875cae0a4c482de6",
            "placeholder": "​",
            "style": "IPY_MODEL_d56a89cb42ec4e8595f6f714fee18c7a",
            "value": "datasets/fiqa.zip: 100%"
          }
        },
        "39839d2064c04842871c9c9e06ef0bdc": {
          "model_module": "@jupyter-widgets/controls",
          "model_module_version": "1.5.0",
          "model_name": "HTMLModel",
          "state": {
            "_dom_classes": [],
            "_model_module": "@jupyter-widgets/controls",
            "_model_module_version": "1.5.0",
            "_model_name": "HTMLModel",
            "_view_count": null,
            "_view_module": "@jupyter-widgets/controls",
            "_view_module_version": "1.5.0",
            "_view_name": "HTMLView",
            "description": "",
            "description_tooltip": null,
            "layout": "IPY_MODEL_dd08cccfa11045b3bc44ad5c5b2f472a",
            "placeholder": "​",
            "style": "IPY_MODEL_b0fbec7c98b24e92b3f4403e69e48188",
            "value": " 57638/57638 [00:00&lt;00:00, 95908.54it/s]"
          }
        },
        "3f4601e890e245c2a83fd4b735c1e49f": {
          "model_module": "@jupyter-widgets/base",
          "model_module_version": "1.2.0",
          "model_name": "LayoutModel",
          "state": {
            "_model_module": "@jupyter-widgets/base",
            "_model_module_version": "1.2.0",
            "_model_name": "LayoutModel",
            "_view_count": null,
            "_view_module": "@jupyter-widgets/base",
            "_view_module_version": "1.2.0",
            "_view_name": "LayoutView",
            "align_content": null,
            "align_items": null,
            "align_self": null,
            "border": null,
            "bottom": null,
            "display": null,
            "flex": null,
            "flex_flow": null,
            "grid_area": null,
            "grid_auto_columns": null,
            "grid_auto_flow": null,
            "grid_auto_rows": null,
            "grid_column": null,
            "grid_gap": null,
            "grid_row": null,
            "grid_template_areas": null,
            "grid_template_columns": null,
            "grid_template_rows": null,
            "height": null,
            "justify_content": null,
            "justify_items": null,
            "left": null,
            "margin": null,
            "max_height": null,
            "max_width": null,
            "min_height": null,
            "min_width": null,
            "object_fit": null,
            "object_position": null,
            "order": null,
            "overflow": null,
            "overflow_x": null,
            "overflow_y": null,
            "padding": null,
            "right": null,
            "top": null,
            "visibility": null,
            "width": null
          }
        },
        "455372856b494568aa24358094f8f32f": {
          "model_module": "@jupyter-widgets/base",
          "model_module_version": "1.2.0",
          "model_name": "LayoutModel",
          "state": {
            "_model_module": "@jupyter-widgets/base",
            "_model_module_version": "1.2.0",
            "_model_name": "LayoutModel",
            "_view_count": null,
            "_view_module": "@jupyter-widgets/base",
            "_view_module_version": "1.2.0",
            "_view_name": "LayoutView",
            "align_content": null,
            "align_items": null,
            "align_self": null,
            "border": null,
            "bottom": null,
            "display": null,
            "flex": null,
            "flex_flow": null,
            "grid_area": null,
            "grid_auto_columns": null,
            "grid_auto_flow": null,
            "grid_auto_rows": null,
            "grid_column": null,
            "grid_gap": null,
            "grid_row": null,
            "grid_template_areas": null,
            "grid_template_columns": null,
            "grid_template_rows": null,
            "height": null,
            "justify_content": null,
            "justify_items": null,
            "left": null,
            "margin": null,
            "max_height": null,
            "max_width": null,
            "min_height": null,
            "min_width": null,
            "object_fit": null,
            "object_position": null,
            "order": null,
            "overflow": null,
            "overflow_x": null,
            "overflow_y": null,
            "padding": null,
            "right": null,
            "top": null,
            "visibility": null,
            "width": null
          }
        },
        "4ad0bf1fe35542e988f6c6d60e135713": {
          "model_module": "@jupyter-widgets/controls",
          "model_module_version": "1.5.0",
          "model_name": "HBoxModel",
          "state": {
            "_dom_classes": [],
            "_model_module": "@jupyter-widgets/controls",
            "_model_module_version": "1.5.0",
            "_model_name": "HBoxModel",
            "_view_count": null,
            "_view_module": "@jupyter-widgets/controls",
            "_view_module_version": "1.5.0",
            "_view_name": "HBoxView",
            "box_style": "",
            "children": [
              "IPY_MODEL_2c94860fac854225b49cbce8413ba914",
              "IPY_MODEL_22c443c470ab467dbe12284b1f940ac5",
              "IPY_MODEL_d57c4cc52f4c45749cad23ca0abd2022"
            ],
            "layout": "IPY_MODEL_042b85e7b9e44c0d888bb426c9f6eec4"
          }
        },
        "51a09a65d0ed47e89a9e0a10af712abc": {
          "model_module": "@jupyter-widgets/base",
          "model_module_version": "1.2.0",
          "model_name": "LayoutModel",
          "state": {
            "_model_module": "@jupyter-widgets/base",
            "_model_module_version": "1.2.0",
            "_model_name": "LayoutModel",
            "_view_count": null,
            "_view_module": "@jupyter-widgets/base",
            "_view_module_version": "1.2.0",
            "_view_name": "LayoutView",
            "align_content": null,
            "align_items": null,
            "align_self": null,
            "border": null,
            "bottom": null,
            "display": null,
            "flex": null,
            "flex_flow": null,
            "grid_area": null,
            "grid_auto_columns": null,
            "grid_auto_flow": null,
            "grid_auto_rows": null,
            "grid_column": null,
            "grid_gap": null,
            "grid_row": null,
            "grid_template_areas": null,
            "grid_template_columns": null,
            "grid_template_rows": null,
            "height": null,
            "justify_content": null,
            "justify_items": null,
            "left": null,
            "margin": null,
            "max_height": null,
            "max_width": null,
            "min_height": null,
            "min_width": null,
            "object_fit": null,
            "object_position": null,
            "order": null,
            "overflow": null,
            "overflow_x": null,
            "overflow_y": null,
            "padding": null,
            "right": null,
            "top": null,
            "visibility": null,
            "width": null
          }
        },
        "967d2fc61b964743875cae0a4c482de6": {
          "model_module": "@jupyter-widgets/base",
          "model_module_version": "1.2.0",
          "model_name": "LayoutModel",
          "state": {
            "_model_module": "@jupyter-widgets/base",
            "_model_module_version": "1.2.0",
            "_model_name": "LayoutModel",
            "_view_count": null,
            "_view_module": "@jupyter-widgets/base",
            "_view_module_version": "1.2.0",
            "_view_name": "LayoutView",
            "align_content": null,
            "align_items": null,
            "align_self": null,
            "border": null,
            "bottom": null,
            "display": null,
            "flex": null,
            "flex_flow": null,
            "grid_area": null,
            "grid_auto_columns": null,
            "grid_auto_flow": null,
            "grid_auto_rows": null,
            "grid_column": null,
            "grid_gap": null,
            "grid_row": null,
            "grid_template_areas": null,
            "grid_template_columns": null,
            "grid_template_rows": null,
            "height": null,
            "justify_content": null,
            "justify_items": null,
            "left": null,
            "margin": null,
            "max_height": null,
            "max_width": null,
            "min_height": null,
            "min_width": null,
            "object_fit": null,
            "object_position": null,
            "order": null,
            "overflow": null,
            "overflow_x": null,
            "overflow_y": null,
            "padding": null,
            "right": null,
            "top": null,
            "visibility": null,
            "width": null
          }
        },
        "abc810e74f674ab79de395273fa19bb2": {
          "model_module": "@jupyter-widgets/controls",
          "model_module_version": "1.5.0",
          "model_name": "FloatProgressModel",
          "state": {
            "_dom_classes": [],
            "_model_module": "@jupyter-widgets/controls",
            "_model_module_version": "1.5.0",
            "_model_name": "FloatProgressModel",
            "_view_count": null,
            "_view_module": "@jupyter-widgets/controls",
            "_view_module_version": "1.5.0",
            "_view_name": "ProgressView",
            "bar_style": "success",
            "description": "",
            "description_tooltip": null,
            "layout": "IPY_MODEL_f35c4b3e0f9d4f209e5cd8f1cb84f70b",
            "max": 57638,
            "min": 0,
            "orientation": "horizontal",
            "style": "IPY_MODEL_fbfa9b8644c14214b027ac229d1245cc",
            "value": 57638
          }
        },
        "ae74bc024549496a8c1b682804a378e6": {
          "model_module": "@jupyter-widgets/controls",
          "model_module_version": "1.5.0",
          "model_name": "ProgressStyleModel",
          "state": {
            "_model_module": "@jupyter-widgets/controls",
            "_model_module_version": "1.5.0",
            "_model_name": "ProgressStyleModel",
            "_view_count": null,
            "_view_module": "@jupyter-widgets/base",
            "_view_module_version": "1.2.0",
            "_view_name": "StyleView",
            "bar_color": null,
            "description_width": ""
          }
        },
        "b0fbec7c98b24e92b3f4403e69e48188": {
          "model_module": "@jupyter-widgets/controls",
          "model_module_version": "1.5.0",
          "model_name": "DescriptionStyleModel",
          "state": {
            "_model_module": "@jupyter-widgets/controls",
            "_model_module_version": "1.5.0",
            "_model_name": "DescriptionStyleModel",
            "_view_count": null,
            "_view_module": "@jupyter-widgets/base",
            "_view_module_version": "1.2.0",
            "_view_name": "StyleView",
            "description_width": ""
          }
        },
        "c154a37e00c34adfa522046d73875a8d": {
          "model_module": "@jupyter-widgets/controls",
          "model_module_version": "1.5.0",
          "model_name": "HBoxModel",
          "state": {
            "_dom_classes": [],
            "_model_module": "@jupyter-widgets/controls",
            "_model_module_version": "1.5.0",
            "_model_name": "HBoxModel",
            "_view_count": null,
            "_view_module": "@jupyter-widgets/controls",
            "_view_module_version": "1.5.0",
            "_view_name": "HBoxView",
            "box_style": "",
            "children": [
              "IPY_MODEL_c69de4051f134017bc5526eef9efc08e",
              "IPY_MODEL_abc810e74f674ab79de395273fa19bb2",
              "IPY_MODEL_39839d2064c04842871c9c9e06ef0bdc"
            ],
            "layout": "IPY_MODEL_cac35b0a44a94763aba300f1bb63bc31"
          }
        },
        "c69de4051f134017bc5526eef9efc08e": {
          "model_module": "@jupyter-widgets/controls",
          "model_module_version": "1.5.0",
          "model_name": "HTMLModel",
          "state": {
            "_dom_classes": [],
            "_model_module": "@jupyter-widgets/controls",
            "_model_module_version": "1.5.0",
            "_model_name": "HTMLModel",
            "_view_count": null,
            "_view_module": "@jupyter-widgets/controls",
            "_view_module_version": "1.5.0",
            "_view_name": "HTMLView",
            "description": "",
            "description_tooltip": null,
            "layout": "IPY_MODEL_3f4601e890e245c2a83fd4b735c1e49f",
            "placeholder": "​",
            "style": "IPY_MODEL_176ca720e2cf436da07fa656c78b1abe",
            "value": "100%"
          }
        },
        "cac35b0a44a94763aba300f1bb63bc31": {
          "model_module": "@jupyter-widgets/base",
          "model_module_version": "1.2.0",
          "model_name": "LayoutModel",
          "state": {
            "_model_module": "@jupyter-widgets/base",
            "_model_module_version": "1.2.0",
            "_model_name": "LayoutModel",
            "_view_count": null,
            "_view_module": "@jupyter-widgets/base",
            "_view_module_version": "1.2.0",
            "_view_name": "LayoutView",
            "align_content": null,
            "align_items": null,
            "align_self": null,
            "border": null,
            "bottom": null,
            "display": null,
            "flex": null,
            "flex_flow": null,
            "grid_area": null,
            "grid_auto_columns": null,
            "grid_auto_flow": null,
            "grid_auto_rows": null,
            "grid_column": null,
            "grid_gap": null,
            "grid_row": null,
            "grid_template_areas": null,
            "grid_template_columns": null,
            "grid_template_rows": null,
            "height": null,
            "justify_content": null,
            "justify_items": null,
            "left": null,
            "margin": null,
            "max_height": null,
            "max_width": null,
            "min_height": null,
            "min_width": null,
            "object_fit": null,
            "object_position": null,
            "order": null,
            "overflow": null,
            "overflow_x": null,
            "overflow_y": null,
            "padding": null,
            "right": null,
            "top": null,
            "visibility": null,
            "width": null
          }
        },
        "d56a89cb42ec4e8595f6f714fee18c7a": {
          "model_module": "@jupyter-widgets/controls",
          "model_module_version": "1.5.0",
          "model_name": "DescriptionStyleModel",
          "state": {
            "_model_module": "@jupyter-widgets/controls",
            "_model_module_version": "1.5.0",
            "_model_name": "DescriptionStyleModel",
            "_view_count": null,
            "_view_module": "@jupyter-widgets/base",
            "_view_module_version": "1.2.0",
            "_view_name": "StyleView",
            "description_width": ""
          }
        },
        "d57c4cc52f4c45749cad23ca0abd2022": {
          "model_module": "@jupyter-widgets/controls",
          "model_module_version": "1.5.0",
          "model_name": "HTMLModel",
          "state": {
            "_dom_classes": [],
            "_model_module": "@jupyter-widgets/controls",
            "_model_module_version": "1.5.0",
            "_model_name": "HTMLModel",
            "_view_count": null,
            "_view_module": "@jupyter-widgets/controls",
            "_view_module_version": "1.5.0",
            "_view_name": "HTMLView",
            "description": "",
            "description_tooltip": null,
            "layout": "IPY_MODEL_51a09a65d0ed47e89a9e0a10af712abc",
            "placeholder": "​",
            "style": "IPY_MODEL_2459823cf6114c718d161a9d187a14a6",
            "value": " 17.1M/17.1M [00:13&lt;00:00, 5.52MiB/s]"
          }
        },
        "dd08cccfa11045b3bc44ad5c5b2f472a": {
          "model_module": "@jupyter-widgets/base",
          "model_module_version": "1.2.0",
          "model_name": "LayoutModel",
          "state": {
            "_model_module": "@jupyter-widgets/base",
            "_model_module_version": "1.2.0",
            "_model_name": "LayoutModel",
            "_view_count": null,
            "_view_module": "@jupyter-widgets/base",
            "_view_module_version": "1.2.0",
            "_view_name": "LayoutView",
            "align_content": null,
            "align_items": null,
            "align_self": null,
            "border": null,
            "bottom": null,
            "display": null,
            "flex": null,
            "flex_flow": null,
            "grid_area": null,
            "grid_auto_columns": null,
            "grid_auto_flow": null,
            "grid_auto_rows": null,
            "grid_column": null,
            "grid_gap": null,
            "grid_row": null,
            "grid_template_areas": null,
            "grid_template_columns": null,
            "grid_template_rows": null,
            "height": null,
            "justify_content": null,
            "justify_items": null,
            "left": null,
            "margin": null,
            "max_height": null,
            "max_width": null,
            "min_height": null,
            "min_width": null,
            "object_fit": null,
            "object_position": null,
            "order": null,
            "overflow": null,
            "overflow_x": null,
            "overflow_y": null,
            "padding": null,
            "right": null,
            "top": null,
            "visibility": null,
            "width": null
          }
        },
        "f35c4b3e0f9d4f209e5cd8f1cb84f70b": {
          "model_module": "@jupyter-widgets/base",
          "model_module_version": "1.2.0",
          "model_name": "LayoutModel",
          "state": {
            "_model_module": "@jupyter-widgets/base",
            "_model_module_version": "1.2.0",
            "_model_name": "LayoutModel",
            "_view_count": null,
            "_view_module": "@jupyter-widgets/base",
            "_view_module_version": "1.2.0",
            "_view_name": "LayoutView",
            "align_content": null,
            "align_items": null,
            "align_self": null,
            "border": null,
            "bottom": null,
            "display": null,
            "flex": null,
            "flex_flow": null,
            "grid_area": null,
            "grid_auto_columns": null,
            "grid_auto_flow": null,
            "grid_auto_rows": null,
            "grid_column": null,
            "grid_gap": null,
            "grid_row": null,
            "grid_template_areas": null,
            "grid_template_columns": null,
            "grid_template_rows": null,
            "height": null,
            "justify_content": null,
            "justify_items": null,
            "left": null,
            "margin": null,
            "max_height": null,
            "max_width": null,
            "min_height": null,
            "min_width": null,
            "object_fit": null,
            "object_position": null,
            "order": null,
            "overflow": null,
            "overflow_x": null,
            "overflow_y": null,
            "padding": null,
            "right": null,
            "top": null,
            "visibility": null,
            "width": null
          }
        },
        "fbfa9b8644c14214b027ac229d1245cc": {
          "model_module": "@jupyter-widgets/controls",
          "model_module_version": "1.5.0",
          "model_name": "ProgressStyleModel",
          "state": {
            "_model_module": "@jupyter-widgets/controls",
            "_model_module_version": "1.5.0",
            "_model_name": "ProgressStyleModel",
            "_view_count": null,
            "_view_module": "@jupyter-widgets/base",
            "_view_module_version": "1.2.0",
            "_view_name": "StyleView",
            "bar_color": null,
            "description_width": ""
          }
        }
      }
    }
  },
  "nbformat": 4,
  "nbformat_minor": 0
}
