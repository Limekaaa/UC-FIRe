{
 "cells": [
  {
   "cell_type": "markdown",
   "metadata": {},
   "source": [
    "# Install libraries (if needed)"
   ]
  },
  {
   "cell_type": "code",
   "execution_count": 1,
   "metadata": {},
   "outputs": [
    {
     "data": {
      "text/plain": [
       "'\\n!pip install beir\\n!pip install fasttext\\n!pip install spacy\\n!pip scikit-learn\\n!pip install rank_bm25\\n!pip install faiss-cpu\\n'"
      ]
     },
     "execution_count": 1,
     "metadata": {},
     "output_type": "execute_result"
    }
   ],
   "source": [
    "\"\"\"\n",
    "!pip install beir\n",
    "!pip install fasttext\n",
    "!pip install spacy\n",
    "!pip scikit-learn\n",
    "!pip install rank_bm25\n",
    "!python -m spacy download en_core_web_sm\n",
    "\"\"\""
   ]
  },
  {
   "cell_type": "markdown",
   "metadata": {},
   "source": [
    "# Import libraries"
   ]
  },
  {
   "cell_type": "code",
   "execution_count": 2,
   "metadata": {},
   "outputs": [
    {
     "name": "stderr",
     "output_type": "stream",
     "text": [
      "c:\\Users\\maxim\\anaconda3\\envs\\research_ir\\Lib\\site-packages\\beir\\util.py:2: TqdmWarning: IProgress not found. Please update jupyter and ipywidgets. See https://ipywidgets.readthedocs.io/en/stable/user_install.html\n",
      "  from tqdm.autonotebook import tqdm\n"
     ]
    }
   ],
   "source": [
    "import pandas as pd\n",
    "\n",
    "import beir \n",
    "from beir import util, LoggingHandler\n",
    "from beir.datasets.data_loader import GenericDataLoader\n",
    "from beir.retrieval.evaluation import EvaluateRetrieval\n",
    "\n",
    "from utils_func import corpus_processing, matrix_creation, clustering, retriever_model, vector_creation\n",
    "\n",
    "import os\n",
    "import multiprocessing\n",
    "multiprocessing.set_start_method(\"spawn\", force=True)\n",
    "\n",
    "try:\n",
    "    import fasttext\n",
    "    import fasttext.util\n",
    "except:\n",
    "    print('fasttext not imported')"
   ]
  },
  {
   "cell_type": "markdown",
   "metadata": {},
   "source": [
    "# Run experiment"
   ]
  },
  {
   "cell_type": "markdown",
   "metadata": {},
   "source": [
    "## Choose parameters"
   ]
  },
  {
   "cell_type": "code",
   "execution_count": 3,
   "metadata": {},
   "outputs": [],
   "source": [
    "dataset = \"nfcorpus\"                        # dataset you want to use, had to be available in the beir benchmark: https://github.com/beir-cellar/beir\n",
    "\n",
    "use_ft = True                               # whether to use fasttext or not to handle unseen words\n",
    "path_ft = 'cc.en.100.bin'                   # path to the fasttext model, if empty and use_ft is true, the model will be downloaded in the current directory\n",
    "save_cleaned_corpus = ''                    # path to save the cleaned corpusn, if empty, the corpus will not be saved\n",
    "save_scores = ''                            # path to save the scores, if empty, the scores will not be saved \n",
    "\n",
    "load_cleaned_corpus = ''                    # path to load the cleaned corpus, if empty, the corpus will be cleaned\n",
    "load_vectors = f'word_vectors/word_vectors_{dataset}.csv' # path to load the word vectors, if empty, the vectors will be created\n",
    "vector_dimension = 100                      # dimension of the word vectors\n",
    "path_to_save_model = ''                     # path to save the fasttext model trained on the corpora, if empty, the model will not be saved\n",
    "\n",
    "remove_original_corpus = False              # whether to remove the original corpus from the memory or not, to save memory\n",
    "\n",
    "best_n_neighbors = 75                       # number of neighbors to consider to fill the similarity matrix\n",
    "best_alpha = 0.76                           # alpha parameter, balancing the importance between similarity and coexistence\n",
    "best_thresh = 0.75                          # threshold to consider a word as replaceable by another one\n",
    "metric = 'cosine'                           # metric to use to compute the similarity matrix   \n",
    "k1 = 1.5                                    # parameter of the BM25 algorithm \n",
    "b = 0.75                                    # parameter of the BM25 algorithm\n",
    "thresh_prob=0.05                            # threshold to consider a value equals to 0 in the coexistence matrix           \n",
    "\n",
    "knn_method = 'faiss'                        # method to use to compute the k-ne, either 'faiss' or 'exact' "
   ]
  },
  {
   "cell_type": "markdown",
   "metadata": {},
   "source": [
    "## Run an experiment"
   ]
  },
  {
   "cell_type": "code",
   "execution_count": 4,
   "metadata": {},
   "outputs": [
    {
     "name": "stderr",
     "output_type": "stream",
     "text": [
      "100%|██████████| 3633/3633 [00:00<00:00, 100892.57it/s]\n"
     ]
    }
   ],
   "source": [
    "url = \"https://public.ukp.informatik.tu-darmstadt.de/thakur/BEIR/datasets/{}.zip\".format(dataset)\n",
    "if not os.path.exists(f\"datasets/\"):\n",
    "    os.makedirs(f\"datasets/\")\n",
    "\n",
    "if not os.path.exists(f\"datasets/{dataset}\"):\n",
    "    url = \"https://public.ukp.informatik.tu-darmstadt.de/thakur/BEIR/datasets/{}.zip\".format(dataset)\n",
    "    data_path = util.download_and_unzip(url, \"datasets\")\n",
    "\n",
    "data_path = f\"datasets/{dataset}\"\n",
    "corpus, queries, qrels = GenericDataLoader(data_folder=data_path).load(split=\"test\")"
   ]
  },
  {
   "cell_type": "code",
   "execution_count": 5,
   "metadata": {},
   "outputs": [],
   "source": [
    "try:\n",
    "    if use_ft:\n",
    "        fasttext_model = fasttext.load_model(path_ft)\n",
    "    else:\n",
    "        fasttext_model = None\n",
    "except:\n",
    "    print('Model not found')\n",
    "    if use_ft:\n",
    "        print('Downloading model...')\n",
    "        fasttext.util.download_model('en', if_exists='ignore')  # English\n",
    "        fasttext_model = fasttext.load_model('cc.en.300.bin')\n",
    "        print('Reducing model...')\n",
    "        if vector_dimension != 300:\n",
    "            fasttext.util.reduce_model(fasttext_model, vector_dimension)\n",
    "        print('Saving model...')\n",
    "        if path_ft != '':\n",
    "            fasttext_model.save_model(path_ft)\n",
    "        fasttext_model.save_model(f'cc.en.{vector_dimension}.bin')\n",
    "        print('Model saved.')\n",
    "    \n",
    "    else:\n",
    "        fasttext_model = None"
   ]
  },
  {
   "cell_type": "code",
   "execution_count": 6,
   "metadata": {},
   "outputs": [
    {
     "name": "stderr",
     "output_type": "stream",
     "text": [
      "Prétraitement du corpus: 100%|██████████| 3633/3633 [00:34<00:00, 105.18it/s]\n"
     ]
    }
   ],
   "source": [
    "if load_cleaned_corpus == '':\n",
    "    cleaned_corpus = corpus_processing.preprocess_corpus_dict(corpus)\n",
    "    if save_cleaned_corpus != '':\n",
    "        corpus_processing.save_processed_corpus(cleaned_corpus, save_cleaned_corpus)\n",
    "else:\n",
    "    cleaned_corpus = pd.read_csv(load_cleaned_corpus)\n",
    "    cleaned_corpus = {cleaned_corpus['doc_id'][i]:cleaned_corpus['text'][i] for i in range(len(cleaned_corpus))}\n",
    "\n",
    "if remove_original_corpus:\n",
    "    corpus = None"
   ]
  },
  {
   "cell_type": "code",
   "execution_count": 7,
   "metadata": {},
   "outputs": [],
   "source": [
    "if os.path.exists(load_vectors):\n",
    "    embeddings = pd.read_csv(load_vectors, sep=' ',na_values=[''], keep_default_na=False, index_col=0).dropna()\n",
    "    for i in list(embeddings.columns)[1:]:\n",
    "        embeddings[i] = embeddings[i].astype(float)\n",
    "else:\n",
    "    embeddings = vector_creation.create_vectors(cleaned_corpus, vector_dimension, path_to_save_vectors=load_vectors, path_to_save_model=path_to_save_model, epochs = 5, model = 'skipgram')\n"
   ]
  },
  {
   "cell_type": "code",
   "execution_count": 8,
   "metadata": {},
   "outputs": [
    {
     "name": "stderr",
     "output_type": "stream",
     "text": [
      "Getting unique words: 100%|██████████| 3633/3633 [00:00<00:00, 27465.34it/s]\n"
     ]
    },
    {
     "name": "stdout",
     "output_type": "stream",
     "text": [
      "Normalizing embeddings for cosine similarity...\n",
      "Embeddings normalized.\n",
      "Creating Faiss index...\n",
      "Faiss index created.\n",
      "getting distances\n",
      "end of getting distances\n"
     ]
    },
    {
     "name": "stderr",
     "output_type": "stream",
     "text": [
      "filling similarity matrix: 100%|██████████| 28157/28157 [00:06<00:00, 4365.94it/s]\n",
      "Getting unique words: 100%|██████████| 3633/3633 [00:00<00:00, 28995.75it/s]\n",
      "Getting word presence: 100%|██████████| 3633/3633 [00:00<00:00, 19201.81it/s]\n",
      "Calculating coexistence probability: 100%|██████████| 28157/28157 [00:24<00:00, 1172.30it/s]\n",
      "Getting replaceable words: 100%|██████████| 28157/28157 [00:09<00:00, 2841.41it/s]\n"
     ]
    },
    {
     "name": "stdout",
     "output_type": "stream",
     "text": [
      "finding graph components...\n",
      "graph components found\n"
     ]
    },
    {
     "name": "stderr",
     "output_type": "stream",
     "text": [
      "Creating clusters dict: 100%|██████████| 21439/21439 [00:02<00:00, 8481.13it/s]\n",
      "Rewriting corpus: 100%|██████████| 3633/3633 [00:08<00:00, 425.17it/s] \n",
      "tests in progress: 100%|██████████| 323/323 [00:25<00:00, 12.71it/s]\n"
     ]
    },
    {
     "name": "stdout",
     "output_type": "stream",
     "text": [
      "({'NDCG@1': 0.42724, 'NDCG@3': 0.38821, 'NDCG@5': 0.36029, 'NDCG@10': 0.33389, 'NDCG@100': 0.28547, 'NDCG@1000': 0.3482}, {'MAP@1': 0.05822, 'MAP@3': 0.09384, 'MAP@5': 0.1074, 'MAP@10': 0.12476, 'MAP@100': 0.15008, 'MAP@1000': 0.161}, {'Recall@1': 0.05822, 'Recall@3': 0.10164, 'Recall@5': 0.12946, 'Recall@10': 0.16255, 'Recall@100': 0.26206, 'Recall@1000': 0.47349}, {'P@1': 0.43653, 'P@3': 0.36017, 'P@5': 0.30279, 'P@10': 0.24334, 'P@100': 0.06947, 'P@1000': 0.01786})\n"
     ]
    }
   ],
   "source": [
    "scores = {}\n",
    "retriever = retriever_model.UCFIRe(embeddings, fasttext_model,n_neighbors = best_n_neighbors, alpha=best_alpha, thresh = best_thresh, metric = metric, k1 = k1, b = b, thresh_prob=thresh_prob)\n",
    "\n",
    "retriever.fit(cleaned_corpus, is_clean=True, knn_method=knn_method)\n",
    "retriever_okapi = EvaluateRetrieval(retriever, score_function=\"cos_sim\") # or \"dot\" if you wish dot-product\n",
    "results_okapi = retriever_okapi.retrieve(retriever.tokenized_corpus, queries)\n",
    "# Evaluate the model (implement your own evaluation logic, e.g., compute mean reciprocal rank)\n",
    "scores = retriever_okapi.evaluate(qrels, results_okapi, retriever_okapi.k_values)  # Replace this with your evaluation metric\n",
    "\n",
    "if save_scores != '':\n",
    "    with open(save_scores, 'w') as f:\n",
    "        f.write(str(scores))\n",
    "    \n",
    "print(scores)\n"
   ]
  },
  {
   "cell_type": "markdown",
   "metadata": {},
   "source": [
    "### Results without handling missing words"
   ]
  },
  {
   "cell_type": "code",
   "execution_count": 9,
   "metadata": {},
   "outputs": [
    {
     "name": "stderr",
     "output_type": "stream",
     "text": [
      "tests in progress: 100%|██████████| 323/323 [00:04<00:00, 78.69it/s]\n"
     ]
    },
    {
     "data": {
      "text/plain": [
       "({'NDCG@1': 0.4257,\n",
       "  'NDCG@3': 0.38622,\n",
       "  'NDCG@5': 0.35801,\n",
       "  'NDCG@10': 0.33163,\n",
       "  'NDCG@100': 0.28329,\n",
       "  'NDCG@1000': 0.34507},\n",
       " {'MAP@1': 0.05651,\n",
       "  'MAP@3': 0.09239,\n",
       "  'MAP@5': 0.10594,\n",
       "  'MAP@10': 0.12316,\n",
       "  'MAP@100': 0.14835,\n",
       "  'MAP@1000': 0.15918},\n",
       " {'Recall@1': 0.05651,\n",
       "  'Recall@3': 0.10016,\n",
       "  'Recall@5': 0.12787,\n",
       "  'Recall@10': 0.16063,\n",
       "  'Recall@100': 0.26028,\n",
       "  'Recall@1000': 0.46912},\n",
       " {'P@1': 0.43653,\n",
       "  'P@3': 0.36017,\n",
       "  'P@5': 0.30217,\n",
       "  'P@10': 0.24241,\n",
       "  'P@100': 0.06941,\n",
       "  'P@1000': 0.01776})"
      ]
     },
     "execution_count": 9,
     "metadata": {},
     "output_type": "execute_result"
    }
   ],
   "source": [
    "retriever.switch_fasttext_model(None)\n",
    "retriever_okapi = EvaluateRetrieval(retriever, score_function=\"cos_sim\") # or \"dot\" if you wish dot-product\n",
    "results_okapi = retriever_okapi.retrieve(retriever.tokenized_corpus, queries)\n",
    "# Evaluate the model (implement your own evaluation logic, e.g., compute mean reciprocal rank)\n",
    "scores = retriever_okapi.evaluate(qrels, results_okapi, retriever_okapi.k_values)  # Replace this with your evaluation metric\n",
    "scores"
   ]
  },
  {
   "cell_type": "markdown",
   "metadata": {},
   "source": [
    "# Make a research"
   ]
  },
  {
   "cell_type": "code",
   "execution_count": 10,
   "metadata": {},
   "outputs": [
    {
     "name": "stdout",
     "output_type": "stream",
     "text": [
      "{'PLAIN-2': 'Do Cholesterol Statin Drugs Cause Breast Cancer?'}\n"
     ]
    }
   ],
   "source": [
    "n_doc = 5 # number of documents to retrieve\n",
    "query = {list(queries.items())[0][0]:list(queries.items())[0][1]}\n",
    "print(query)"
   ]
  },
  {
   "cell_type": "code",
   "execution_count": 11,
   "metadata": {},
   "outputs": [
    {
     "name": "stderr",
     "output_type": "stream",
     "text": [
      "tests in progress: 100%|██████████| 1/1 [00:00<00:00, 39.73it/s]\n"
     ]
    },
    {
     "data": {
      "text/plain": [
       "{'PLAIN-2': {'MED-10': 20.928497095049888,\n",
       "  'MED-14': 20.651564093589315,\n",
       "  'MED-1193': 17.809039262489723,\n",
       "  'MED-2429': 17.765721752415434,\n",
       "  'MED-2431': 16.97744472842882}}"
      ]
     },
     "execution_count": 11,
     "metadata": {},
     "output_type": "execute_result"
    }
   ],
   "source": [
    "results = retriever.search(cleaned_corpus, query, n_doc, 'cos_sim') # example of a search\n",
    "results"
   ]
  },
  {
   "cell_type": "code",
   "execution_count": 12,
   "metadata": {},
   "outputs": [
    {
     "name": "stdout",
     "output_type": "stream",
     "text": [
      "Query: Do Cholesterol Statin Drugs Cause Breast Cancer?\n",
      "\n",
      "\n",
      "\tDocument: {'text': 'Recent studies have suggested that statins, an established drug group in the prevention of cardiovascular mortality, could delay or prevent breast cancer recurrence but the effect on disease-specific mortality remains unclear. We evaluated risk of breast cancer death among statin users in a population-based cohort of breast cancer patients. The study cohort included all newly diagnosed breast cancer patients in Finland during 1995–2003 (31,236 cases), identified from the Finnish Cancer Registry. Information on statin use before and after the diagnosis was obtained from a national prescription database. We used the Cox proportional hazards regression method to estimate mortality among statin users with statin use as time-dependent variable. A total of 4,151 participants had used statins. During the median follow-up of 3.25 years after the diagnosis (range 0.08–9.0 years) 6,011 participants died, of which 3,619 (60.2%) was due to breast cancer. After adjustment for age, tumor characteristics, and treatment selection, both post-diagnostic and pre-diagnostic statin use were associated with lowered risk of breast cancer death (HR 0.46, 95% CI 0.38–0.55 and HR 0.54, 95% CI 0.44–0.67, respectively). The risk decrease by post-diagnostic statin use was likely affected by healthy adherer bias; that is, the greater likelihood of dying cancer patients to discontinue statin use as the association was not clearly dose-dependent and observed already at low-dose/short-term use. The dose- and time-dependence of the survival benefit among pre-diagnostic statin users suggests a possible causal effect that should be evaluated further in a clinical trial testing statins’ effect on survival in breast cancer patients.', 'title': 'Statin Use and Breast Cancer Survival: A Nationwide Cohort Study from Finland'}\n",
      "\tScore: 20.928497095049888\n",
      "\n",
      "\n",
      "\tDocument: {'text': 'BACKGROUND: Preclinical studies have shown that statins, particularly simvastatin, can prevent growth in breast cancer cell lines and animal models. We investigated whether statins used after breast cancer diagnosis reduced the risk of breast cancer-specific, or all-cause, mortality in a large cohort of breast cancer patients. METHODS: A cohort of 17,880 breast cancer patients, newly diagnosed between 1998 and 2009, was identified from English cancer registries (from the National Cancer Data Repository). This cohort was linked to the UK Clinical Practice Research Datalink, providing prescription records, and to the Office of National Statistics mortality data (up to 2013), identifying 3694 deaths, including 1469 deaths attributable to breast cancer. Unadjusted and adjusted hazard ratios (HRs) for breast cancer-specific, and all-cause, mortality in statin users after breast cancer diagnosis were calculated using time-dependent Cox regression models. Sensitivity analyses were conducted using multiple imputation methods, propensity score methods and a case-control approach. RESULTS: There was some evidence that statin use after a diagnosis of breast cancer had reduced mortality due to breast cancer and all causes (fully adjusted HR = 0.84 [95% confidence interval = 0.68-1.04] and 0.84 [0.72-0.97], respectively). These associations were more marked for simvastatin 0.79 (0.63-1.00) and 0.81 (0.70-0.95), respectively. CONCLUSIONS: In this large population-based breast cancer cohort, there was some evidence of reduced mortality in statin users after breast cancer diagnosis. However, these associations were weak in magnitude and were attenuated in some sensitivity analyses.', 'title': 'Statin use after diagnosis of breast cancer and survival: a population-based cohort study.'}\n",
      "\tScore: 20.651564093589315\n",
      "\n",
      "\n",
      "\tDocument: {'text': 'Summary Background Statins reduce LDL cholesterol and prevent vascular events, but their net effects in people at low risk of vascular events remain uncertain. Methods This meta-analysis included individual participant data from 22 trials of statin versus control (n=134\\u2008537; mean LDL cholesterol difference 1·08 mmol/L; median follow-up 4·8 years) and five trials of more versus less statin (n=39\\u2008612; difference 0·51 mmol/L; 5·1 years). Major vascular events were major coronary events (ie, non-fatal myocardial infarction or coronary death), strokes, or coronary revascularisations. Participants were separated into five categories of baseline 5-year major vascular event risk on control therapy (no statin or low-intensity statin) (<5%, ≥5% to <10%, ≥10% to <20%, ≥20% to <30%, ≥30%); in each, the rate ratio (RR) per 1·0 mmol/L LDL cholesterol reduction was estimated. Findings Reduction of LDL cholesterol with a statin reduced the risk of major vascular events (RR 0·79, 95% CI 0·77–0·81, per 1·0 mmol/L reduction), largely irrespective of age, sex, baseline LDL cholesterol or previous vascular disease, and of vascular and all-cause mortality. The proportional reduction in major vascular events was at least as big in the two lowest risk categories as in the higher risk categories (RR per 1·0 mmol/L reduction from lowest to highest risk: 0·62 [99% CI 0·47–0·81], 0·69 [99% CI 0·60–0·79], 0·79 [99% CI 0·74–0·85], 0·81 [99% CI 0·77–0·86], and 0·79 [99% CI 0·74–0·84]; trend p=0·04), which reflected significant reductions in these two lowest risk categories in major coronary events (RR 0·57, 99% CI 0·36–0·89, p=0·0012, and 0·61, 99% CI 0·50–0·74, p<0·0001) and in coronary revascularisations (RR 0·52, 99% CI 0·35–0·75, and 0·63, 99% CI 0·51–0·79; both p<0·0001). For stroke, the reduction in risk in participants with 5-year risk of major vascular events lower than 10% (RR per 1·0 mmol/L LDL cholesterol reduction 0·76, 99% CI 0·61–0·95, p=0·0012) was also similar to that seen in higher risk categories (trend p=0·3). In participants without a history of vascular disease, statins reduced the risks of vascular (RR per 1·0 mmol/L LDL cholesterol reduction 0·85, 95% CI 0·77–0·95) and all-cause mortality (RR 0·91, 95% CI 0·85–0·97), and the proportional reductions were similar by baseline risk. There was no evidence that reduction of LDL cholesterol with a statin increased cancer incidence (RR per 1·0 mmol/L LDL cholesterol reduction 1·00, 95% CI 0·96–1·04), cancer mortality (RR 0·99, 95% CI 0·93–1·06), or other non-vascular mortality. Interpretation In individuals with 5-year risk of major vascular events lower than 10%, each 1 mmol/L reduction in LDL cholesterol produced an absolute reduction in major vascular events of about 11 per 1000 over 5 years. This benefit greatly exceeds any known hazards of statin therapy. Under present guidelines, such individuals would not typically be regarded as suitable for LDL-lowering statin therapy. The present report suggests, therefore, that these guidelines might need to be reconsidered. Funding British Heart Foundation; UK Medical Research Council; Cancer Research UK; European Community Biomed Programme; Australian National Health and Medical Research Council; National Heart Foundation, Australia.', 'title': 'The effects of lowering LDL cholesterol with statin therapy in people at low risk of vascular disease: meta-analysis of individual data from 27 randomised trials'}\n",
      "\tScore: 17.809039262489723\n",
      "\n",
      "\n",
      "\tDocument: {'text': \"Emerging evidence suggests that statins' may decrease the risk of cancers. However, available evidence on breast cancer is conflicting. We, therefore, examined the association between statin use and risk of breast cancer by conducting a detailed meta-analysis of all observational studies published regarding this subject. PubMed database and bibliographies of retrieved articles were searched for epidemiological studies published up to January 2012, investigating the relationship between statin use and breast cancer. Before meta-analysis, the studies were evaluated for publication bias and heterogeneity. Combined relative risk (RR) and 95 % confidence interval (CI) were calculated using a random-effects model (DerSimonian and Laird method). Subgroup analyses, sensitivity analysis, and cumulative meta-analysis were also performed. A total of 24 (13 cohort and 11 case-control) studies involving more than 2.4 million participants, including 76,759 breast cancer cases contributed to this analysis. We found no evidence of publication bias and evidence of heterogeneity among the studies. Statin use and long-term statin use did not significantly affect breast cancer risk (RR = 0.99, 95 % CI = 0.94, 1.04 and RR = 1.03, 95 % CI = 0.96, 1.11, respectively). When the analysis was stratified into subgroups, there was no evidence that study design substantially influenced the effect estimate. Sensitivity analysis confirmed the stability of our results. Cumulative meta-analysis showed a change in trend of reporting risk of breast cancer from positive to negative in statin users between 1993 and 2011. Our meta-analysis findings do not support the hypothesis that statins' have a protective effect against breast cancer. More randomized clinical trials and observational studies are needed to confirm this association with underlying biological mechanisms in the future.\", 'title': 'Statin use and risk of breast cancer: a meta-analysis of observational studies.'}\n",
      "\tScore: 17.765721752415434\n",
      "\n",
      "\n",
      "\tDocument: {'text': 'Background Mechanistic studies largely support the chemopreventive potential of statins. However, results of epidemiologic studies investigating statin use and breast cancer risk have been inconsistent and lacked the ability to evaluate long-term statin use. Materials and Methods We utilized data from a population-based case-control study of breast cancer conducted in the Seattle-Puget Sound region to investigate the relationship between long-term statin use and breast cancer risk. 916 invasive ductal carcinoma (IDC) and 1,068 invasive lobular carcinoma (ILC) cases 55-74 years of age diagnosed between 2000 and 2008 were compared to 902 control women. All participants were interviewed in-person and data on hypercholesterolemia and all episodes of lipid lowering medication use were collected through a structured questionnaire. We assessed the relationship between statin use and IDC and ILC risk using polytomous logistic regression. Results Current users of statins for 10 years or longer had a 1.83-fold increased risk of IDC [95% confidence interval (CI): 1.14-2.93] and a 1.97-fold increased risk of ILC (95% CI: 1.25-3.12) compared to never users of statins. Among women diagnosed with hypercholesterolemia, current users of statins for 10 years or longer had more than double the risk of both IDC [odds ratio (OR): 2.04, 95% CI: 1.17-3.57] and ILC (OR: 2.43, 95% CI: 1.40-4.21) compared to never users. Conclusion In this contemporary population-based case-control study long-term use of statins was associated with increased risks of both IDC and ILC. Impact Additional studies with similarly high frequencies of statin use for various durations are needed to confirm this novel finding.', 'title': 'Long-term statin use and risk of ductal and lobular breast cancer among women 55-74 years of age'}\n",
      "\tScore: 16.97744472842882\n",
      "\n",
      "\n"
     ]
    }
   ],
   "source": [
    "for quer_id in list(results.keys()):\n",
    "    print(f'Query: {queries[quer_id]}')\n",
    "    for doc_id in list(results[quer_id].keys()):\n",
    "        print('\\n')\n",
    "        print(f'\\tDocument: {corpus[doc_id]}')\n",
    "        print(f'\\tScore: {results[quer_id][doc_id]}')\n",
    "    \n",
    "    print('\\n')"
   ]
  }
 ],
 "metadata": {
  "kernelspec": {
   "display_name": "research_ir",
   "language": "python",
   "name": "python3"
  },
  "language_info": {
   "codemirror_mode": {
    "name": "ipython",
    "version": 3
   },
   "file_extension": ".py",
   "mimetype": "text/x-python",
   "name": "python",
   "nbconvert_exporter": "python",
   "pygments_lexer": "ipython3",
   "version": "3.12.3"
  }
 },
 "nbformat": 4,
 "nbformat_minor": 2
}
